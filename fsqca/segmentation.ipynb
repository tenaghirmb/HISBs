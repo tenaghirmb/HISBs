{
 "cells": [
  {
   "cell_type": "code",
   "execution_count": null,
   "metadata": {},
   "outputs": [],
   "source": [
    "# -*- coding: utf-8 -*-\n",
    "import pymysql.cursors\n",
    "import pandas as pd\n",
    "import os\n",
    "import matplotlib.pyplot as plt\n",
    "import textwrap\n",
    "from scipy import stats\n",
    "import math"
   ]
  },
  {
   "cell_type": "code",
   "execution_count": null,
   "metadata": {},
   "outputs": [],
   "source": [
    "connection = pymysql.connect(host='localhost',\n",
    "                             user='root',\n",
    "                             password=os.environ.get('mysql_password', '960728'),\n",
    "                             db='hdf',\n",
    "                             charset='utf8mb4',\n",
    "                             cursorclass=pymysql.cursors.DictCursor)"
   ]
  },
  {
   "cell_type": "code",
   "execution_count": null,
   "metadata": {},
   "outputs": [],
   "source": [
    "def query(sql):\n",
    "    try:\n",
    "        with connection.cursor() as cursor:\n",
    "            cursor.execute(sql)\n",
    "            result = cursor.fetchall()\n",
    "            return pd.DataFrame(result, columns=result[0].keys())\n",
    "    finally:\n",
    "        connection.close()"
   ]
  },
  {
   "cell_type": "code",
   "execution_count": null,
   "metadata": {},
   "outputs": [],
   "source": [
    "sql = textwrap.dedent(\"\"\"\n",
    "    SELECT\n",
    "        ME,\n",
    "        MC,\n",
    "        CS,\n",
    "        MAP,\n",
    "        OP,\n",
    "        F,\n",
    "        POP,\n",
    "        SOP,\n",
    "        DIS,\n",
    "        usefulre,\n",
    "        disease_cat,\n",
    "        comment_score,\n",
    "        number_of_comments,\n",
    "        doctorProfession,\n",
    "        hospital_grade\n",
    "    FROM ultra_ultimate;\n",
    "\"\"\")"
   ]
  },
  {
   "cell_type": "code",
   "execution_count": null,
   "metadata": {},
   "outputs": [],
   "source": [
    "df = query(sql)\n",
    "df = df.astype({'ME':'float','MC':'float','CS':'float','MAP':'float','OP':'float','F':'float','POP':'float','SOP':'float','DIS':'float',})"
   ]
  },
  {
   "cell_type": "code",
   "execution_count": null,
   "metadata": {},
   "outputs": [],
   "source": [
    "df.usefulre = df.usefulre.apply(lambda x: math.log(x+0.01, 10))\n",
    "df.comment_score = df.comment_score.apply(lambda x: math.log(x+0.01, 10))\n",
    "df.number_of_comments = df.number_of_comments.apply(lambda x: math.log(x, 10))"
   ]
  },
  {
   "cell_type": "code",
   "execution_count": null,
   "metadata": {},
   "outputs": [],
   "source": [
    "def segment(df, condition, cname):\n",
    "    for n, x in df.groupby([df['disease_cat'],condition]):\n",
    "        doccap = 'high' if n[1] else 'low'\n",
    "        filename = n[0] + '_' + cname + '_' + doccap + '.csv'\n",
    "        x.reset_index(drop=True, inplace=True)\n",
    "        x.to_csv(filename, columns = ['ME', 'MC', 'CS', 'MAP', 'OP', 'F', 'POP', 'SOP', 'DIS', 'usefulre'])"
   ]
  },
  {
   "cell_type": "code",
   "execution_count": null,
   "metadata": {},
   "outputs": [],
   "source": [
    "segment(df, df['doctorProfession'].isin(['副主任医师','主任医师']), 'title')\n",
    "segment(df, df['hospital_grade'].isin(['三甲','三级']), 'grade')\n",
    "segment(df, df['number_of_comments'] > df.number_of_comments.median(), 'noc')\n",
    "segment(df, df['comment_score'] > df.comment_score.median(), 'cs')"
   ]
  }
 ],
 "metadata": {
  "kernelspec": {
   "display_name": "Python 3",
   "language": "python",
   "name": "python3"
  },
  "language_info": {
   "codemirror_mode": {
    "name": "ipython",
    "version": 3
   },
   "file_extension": ".py",
   "mimetype": "text/x-python",
   "name": "python",
   "nbconvert_exporter": "python",
   "pygments_lexer": "ipython3",
   "version": "3.6.4"
  }
 },
 "nbformat": 4,
 "nbformat_minor": 2
}
