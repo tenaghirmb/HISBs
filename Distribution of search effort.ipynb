{
 "cells": [
  {
   "cell_type": "code",
   "execution_count": null,
   "metadata": {
    "collapsed": true
   },
   "outputs": [],
   "source": [
    "#！/usr/bin/python\n",
    "# -*- coding: utf-8 -*-"
   ]
  },
  {
   "cell_type": "code",
   "execution_count": null,
   "metadata": {
    "collapsed": true
   },
   "outputs": [],
   "source": [
    "import plotly\n",
    "import plotly.plotly as py\n",
    "import plotly.graph_objs as go"
   ]
  },
  {
   "cell_type": "code",
   "execution_count": null,
   "metadata": {
    "collapsed": true
   },
   "outputs": [],
   "source": [
    "plotly.tools.set_credentials_file(username='tenaghirmb', api_key='please_use_your_own_api')"
   ]
  },
  {
   "cell_type": "code",
   "execution_count": null,
   "metadata": {},
   "outputs": [],
   "source": [
    "plotly.offline.init_notebook_mode(connected=True)"
   ]
  },
  {
   "cell_type": "code",
   "execution_count": null,
   "metadata": {},
   "outputs": [],
   "source": [
    "trace = go.Bar(\n",
    "    x = ['Medical', 'Lifestyle', 'E-pharmacy'],\n",
    "    y = [134009, 46870, 3947],\n",
    "    text = ['72.5%', '25.4%', '2.1%'],\n",
    "    textposition = 'outside',\n",
    "    textfont = dict(size=9,),\n",
    "    width = [0.25]*3\n",
    ")\n",
    "\n",
    "data = [trace]\n",
    "\n",
    "layout = go.Layout(\n",
    "    xaxis=dict(\n",
    "        title='Category',\n",
    "        titlefont=dict(\n",
    "            size=16,\n",
    "        ),\n",
    "        ticklen=2,\n",
    "        tickfont=dict(\n",
    "            size=12,\n",
    "        ),\n",
    "        nticks=5,\n",
    "    ),\n",
    "    yaxis=dict(\n",
    "        title='Number of Visits',\n",
    "        titlefont=dict(\n",
    "            size=16,\n",
    "        ),\n",
    "        tickfont=dict(\n",
    "            size=11,\n",
    "        ),\n",
    "        nticks=15,\n",
    "    ),\n",
    ")\n",
    "\n",
    "fig = go.Figure(data=data, layout=layout)\n",
    "\n",
    "plotly.offline.iplot(fig, filename='Distribution of search effort')"
   ]
  },
  {
   "cell_type": "code",
   "execution_count": null,
   "metadata": {},
   "outputs": [],
   "source": [
    "py.iplot(fig, filename='Distribution of search effort')"
   ]
  },
  {
   "cell_type": "code",
   "execution_count": null,
   "metadata": {},
   "outputs": [],
   "source": [
    "donut = {\n",
    "  \"data\": [\n",
    "    {\n",
    "      \"values\": [134009, 46870, 3947],\n",
    "      \"labels\": [\n",
    "        \"Medical\",\n",
    "        \"Lifestyle\",\n",
    "        \"E-pharmacy\",\n",
    "      ],\n",
    "      \"name\": \"Number of Visits\",\n",
    "      \"textinfo\":\"label+value+percent\",\n",
    "      \"textposition\":\"outside\",\n",
    "      \"hole\": .4,\n",
    "      \"type\": \"pie\",\n",
    "      \"rotation\":145,\n",
    "    }],\n",
    "}\n",
    "plotly.offline.iplot(donut, filename='Distribution of search effort(donut)')"
   ]
  },
  {
   "cell_type": "code",
   "execution_count": null,
   "metadata": {},
   "outputs": [],
   "source": [
    "py.iplot(donut, filename='Distribution of search effort(donut)')"
   ]
  }
 ],
 "metadata": {
  "kernelspec": {
   "display_name": "Python 3",
   "language": "python",
   "name": "python3"
  },
  "language_info": {
   "codemirror_mode": {
    "name": "ipython",
    "version": 3
   },
   "file_extension": ".py",
   "mimetype": "text/x-python",
   "name": "python",
   "nbconvert_exporter": "python",
   "pygments_lexer": "ipython3",
   "version": "3.6.2"
  }
 },
 "nbformat": 4,
 "nbformat_minor": 2
}
