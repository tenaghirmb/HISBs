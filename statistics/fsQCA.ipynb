{
 "cells": [
  {
   "cell_type": "code",
   "execution_count": null,
   "metadata": {},
   "outputs": [],
   "source": [
    "import textwrap\n",
    "import pyodbc\n",
    "import pandas as pd\n",
    "from scipy import stats\n",
    "import matplotlib.pyplot as plt"
   ]
  },
  {
   "cell_type": "code",
   "execution_count": null,
   "metadata": {},
   "outputs": [],
   "source": [
    "sql1 = textwrap.dedent(\"\"\"\n",
    "    IF OBJECT_ID('tempdb..##tmp') IS NOT NULL\n",
    "        DROP TABLE ##tmp\n",
    "\"\"\")\n",
    "sql2 = textwrap.dedent(\"\"\"\n",
    "    SELECT userid\n",
    "          ,date\n",
    "          ,platform\n",
    "          ,channel\n",
    "          ,COUNT(url) AS intensity\n",
    "    INTO ##tmp\n",
    "    FROM [data].[dbo].[health_records]\n",
    "    GROUP BY userid, date, platform, channel\n",
    "    HAVING platform IS NOT NULL AND channel IS NOT NULL\n",
    "    ORDER BY userid, date, platform, channel\n",
    "\"\"\")\n",
    "sql3 = textwrap.dedent(\"\"\"\n",
    "    IF OBJECT_ID('tempdb..##j') IS NOT NULL\n",
    "        DROP TABLE ##j\n",
    "\"\"\")\n",
    "sql4 = textwrap.dedent(\"\"\"\n",
    "    SELECT userid\n",
    "          ,platform\n",
    "          ,channel\n",
    "          ,AVG(intensity) AS intensity\n",
    "    INTO ##j\n",
    "    FROM ##tmp\n",
    "    GROUP BY userid, platform, channel\n",
    "    ORDER BY userid, platform, channel\n",
    "\"\"\")\n",
    "sql5 = textwrap.dedent(\"\"\"\n",
    "    SELECT j.platform\n",
    "          ,j.channel\n",
    "          ,u.gender\n",
    "          ,u.consumption AS income\n",
    "          ,j.intensity\n",
    "    FROM ##j j\n",
    "    JOIN [data].[dbo].[user] u\n",
    "    ON u.userid = j.userid\n",
    "\"\"\")"
   ]
  },
  {
   "cell_type": "code",
   "execution_count": null,
   "metadata": {},
   "outputs": [],
   "source": [
    "# 数据分布图\n",
    "def dist_plot(s):\n",
    "    plt.figure()\n",
    "    s.plot.hist(bins=15)\n",
    "    plt.show()\n",
    "    return None"
   ]
  },
  {
   "cell_type": "code",
   "execution_count": null,
   "metadata": {},
   "outputs": [],
   "source": [
    "# 对数据做幂次变换\n",
    "def power_trans(df,col):\n",
    "    dist_plot(df[col])\n",
    "    df[col+'_t'], _ = stats.boxcox(df[col])\n",
    "    dist_plot(df[col+'_t'])\n",
    "    print(stats.normaltest(df[col+'_t']))\n",
    "    return df"
   ]
  },
  {
   "cell_type": "code",
   "execution_count": null,
   "metadata": {},
   "outputs": [],
   "source": [
    "cnxn = pyodbc.connect('DRIVER={SQL Server};SERVER=localhost;DATABASE=data;')\n",
    "\n",
    "cursor = cnxn.cursor()"
   ]
  },
  {
   "cell_type": "code",
   "execution_count": null,
   "metadata": {},
   "outputs": [],
   "source": [
    "cursor.execute(sql1)\n",
    "cursor.execute(sql2)\n",
    "cursor.execute(sql3)\n",
    "cursor.execute(sql4)\n",
    "rows = cursor.execute(sql5).fetchall()\n",
    "df = pd.DataFrame( [[ij for ij in i] for i in rows] )\n",
    "df = df.rename(columns={0:'platform',1:'channel',2:'gender',3:'income',4:'intensity'})\n",
    "df = df[df['intensity']>2]\n",
    "df = df[df['income']<50000]\n",
    "df.describe()"
   ]
  },
  {
   "cell_type": "code",
   "execution_count": null,
   "metadata": {},
   "outputs": [],
   "source": [
    "# 0-女 1-男\n",
    "df.gender=df.gender.apply(lambda x:(1,0)[x=='女'])\n",
    "# 0-browser 1-app\n",
    "df.channel=df.channel.apply(lambda x:(1,0)[x=='browser'])\n",
    "# 0-iphone 1-android\n",
    "df.platform=df.platform.apply(lambda x:(1,0)[x=='iphone'])"
   ]
  },
  {
   "cell_type": "code",
   "execution_count": null,
   "metadata": {},
   "outputs": [],
   "source": [
    "df = power_trans(df,'income')\n",
    "df = power_trans(df,'intensity')"
   ]
  },
  {
   "cell_type": "code",
   "execution_count": null,
   "metadata": {},
   "outputs": [],
   "source": [
    "df.reset_index(drop=True, inplace=True)\n",
    "df['id']=df.index+1\n",
    "# 更改id列顺序\n",
    "uid = df['id']\n",
    "df.drop(labels=['id'], axis=1,inplace = True)\n",
    "df.insert(0, 'id', uid)"
   ]
  },
  {
   "cell_type": "code",
   "execution_count": null,
   "metadata": {},
   "outputs": [],
   "source": [
    "df[['income_t','intensity_t']].quantile(0.95)\n",
    "df[['income_t','intensity_t']].quantile(0.5)\n",
    "df[['income_t','intensity_t']].quantile(0.05)"
   ]
  },
  {
   "cell_type": "code",
   "execution_count": null,
   "metadata": {},
   "outputs": [],
   "source": [
    "df.to_csv('intensity.csv',columns=['id','platform','channel','gender','income_t','intensity_t'],header=['id','platform','channel','gender','income','intensity'],index=False)"
   ]
  }
 ],
 "metadata": {
  "kernelspec": {
   "display_name": "Python 3",
   "language": "python",
   "name": "python3"
  },
  "language_info": {
   "codemirror_mode": {
    "name": "ipython",
    "version": 3
   },
   "file_extension": ".py",
   "mimetype": "text/x-python",
   "name": "python",
   "nbconvert_exporter": "python",
   "pygments_lexer": "ipython3",
   "version": "3.6.4"
  }
 },
 "nbformat": 4,
 "nbformat_minor": 2
}
