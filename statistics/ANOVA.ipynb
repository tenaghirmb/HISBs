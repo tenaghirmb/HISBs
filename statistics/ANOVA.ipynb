{
 "cells": [
  {
   "cell_type": "code",
   "execution_count": 1,
   "metadata": {},
   "outputs": [],
   "source": [
    "#! /usr/bin/python\n",
    "# -*- coding: utf-8 -*-"
   ]
  },
  {
   "cell_type": "code",
   "execution_count": 2,
   "metadata": {},
   "outputs": [],
   "source": [
    "import statsmodels.api as sm\n",
    "from statsmodels.formula.api import ols\n",
    "import pyodbc\n",
    "import textwrap\n",
    "import pandas as pd\n",
    "import numpy as np\n",
    "from scipy import stats"
   ]
  },
  {
   "cell_type": "code",
   "execution_count": 3,
   "metadata": {},
   "outputs": [],
   "source": [
    "# 总访问量 - channel*income\n",
    "sql1 = textwrap.dedent(\"\"\"\n",
    "    SELECT r.userid\n",
    "          ,r.channel\n",
    "          ,IIF(u.consumption>10000,'high','low') AS income\n",
    "          ,COUNT(r.url) AS [Number of Visits]\n",
    "    FROM [data].[dbo].[health_records] r\n",
    "    JOIN [data].[dbo].[user] u\n",
    "    ON r.userid = u.userid\n",
    "    GROUP BY r.userid, r.channel, u.consumption\n",
    "    HAVING r.channel IS NOT NULL AND u.consumption IS NOT NULL\n",
    "    ORDER BY r.userid\n",
    "\"\"\")\n",
    "# 总访问量 - platform*income\n",
    "sql2 = textwrap.dedent(\"\"\"\n",
    "    SELECT r.userid\n",
    "          ,r.platform\n",
    "          ,IIF(u.consumption>10000,'high','low') AS income\n",
    "          ,COUNT(r.url) AS [Number of Visits]\n",
    "    FROM [data].[dbo].[health_records] r\n",
    "    JOIN [data].[dbo].[user] u\n",
    "    ON r.userid = u.userid\n",
    "    GROUP BY r.userid, r.platform, u.consumption\n",
    "    HAVING r.platform IS NOT NULL AND u.consumption IS NOT NULL\n",
    "    ORDER BY r.userid\n",
    "\"\"\")\n",
    "# 总访问量 - gender*income\n",
    "sql3 = textwrap.dedent(\"\"\"\n",
    "    SELECT r.userid\n",
    "          ,u.gender\n",
    "          ,IIF(u.consumption>10000,'high','low') AS income\n",
    "          ,COUNT(r.url) AS [Number of Visits]\n",
    "    FROM [data].[dbo].[health_records] r\n",
    "    JOIN [data].[dbo].[user] u\n",
    "    ON r.userid = u.userid\n",
    "    GROUP BY r.userid, u.gender, u.consumption\n",
    "    HAVING u.gender IS NOT NULL AND u.consumption IS NOT NULL\n",
    "    ORDER BY r.userid\n",
    "\"\"\")\n",
    "# 总访问量 - platform*gender\n",
    "sql4 = textwrap.dedent(\"\"\"\n",
    "    SELECT r.userid\n",
    "          ,r.platform\n",
    "          ,u.gender\n",
    "          ,COUNT(r.url) AS [Number of Visits]\n",
    "    FROM [data].[dbo].[health_records] r\n",
    "    JOIN [data].[dbo].[user] u\n",
    "    ON r.userid = u.userid\n",
    "    GROUP BY r.userid, r.platform, u.gender\n",
    "    HAVING r.platform IS NOT NULL AND u.gender IS NOT NULL\n",
    "    ORDER BY r.userid\n",
    "\"\"\")\n",
    "# 总访问量 - channel*gender\n",
    "sql5 = textwrap.dedent(\"\"\"\n",
    "    SELECT r.userid\n",
    "          ,r.channel\n",
    "          ,u.gender\n",
    "          ,COUNT(r.url) AS [Number of Visits]\n",
    "    FROM [data].[dbo].[health_records] r\n",
    "    JOIN [data].[dbo].[user] u\n",
    "    ON r.userid = u.userid\n",
    "    GROUP BY r.userid, r.channel, u.gender\n",
    "    HAVING r.channel IS NOT NULL AND u.gender IS NOT NULL\n",
    "    ORDER BY r.userid\n",
    "\"\"\")\n",
    "# 使用强度 - all\n",
    "sql6 = textwrap.dedent(\"\"\"\n",
    "    SELECT r.userid\n",
    "          ,r.platform\n",
    "          ,r.channel\n",
    "          ,COUNT(r.url) AS [Use Intensity]\n",
    "          ,u.gender\n",
    "          ,IIF(u.consumption>10000,'high','low') AS income\n",
    "    FROM [data].[dbo].[health_records] r\n",
    "    JOIN [data].[dbo].[user] u\n",
    "    ON r.userid = u.userid\n",
    "    GROUP BY r.userid, r.date, r.platform, r.channel, u.gender, u.consumption\n",
    "    HAVING r.platform IS NOT NULL AND r.channel IS NOT NULL AND u.gender IS NOT NULL AND u.consumption IS NOT NULL\n",
    "    ORDER BY r.userid, r.date\n",
    "\"\"\")"
   ]
  },
  {
   "cell_type": "code",
   "execution_count": 4,
   "metadata": {},
   "outputs": [],
   "source": [
    "cnxn = pyodbc.connect('DRIVER={SQL Server};SERVER=localhost;DATABASE=data;')\n",
    "\n",
    "cursor = cnxn.cursor()"
   ]
  },
  {
   "cell_type": "code",
   "execution_count": 5,
   "metadata": {},
   "outputs": [],
   "source": [
    "# 执行sql，并将结果加载为dataframe\n",
    "def load_data(sql):\n",
    "    rows = cursor.execute(sql).fetchall()\n",
    "    return pd.DataFrame( [[ij for ij in i] for i in rows] )"
   ]
  },
  {
   "cell_type": "code",
   "execution_count": 6,
   "metadata": {},
   "outputs": [],
   "source": [
    "# 对数据做幂次变换\n",
    "def power_trans(df):\n",
    "    df['yt'], _ = stats.boxcox(df[3])\n",
    "    return df"
   ]
  },
  {
   "cell_type": "code",
   "execution_count": 7,
   "metadata": {},
   "outputs": [],
   "source": [
    "def analysis(sql,c1,c2):\n",
    "    df = load_data(sql)\n",
    "    df = power_trans(df)\n",
    "    locals()[c1] = df[1]\n",
    "    locals()[c2] = df[2]\n",
    "    yt = df['yt']\n",
    "    formula = 'yt~C({c1})+C({c2})+C({c1}):C({c2})'.format(c1=c1,c2=c2)\n",
    "    anova_results = sm.stats.anova_lm(ols(formula,df).fit(),typ=1)\n",
    "    print(anova_results)\n",
    "    return None"
   ]
  },
  {
   "cell_type": "code",
   "execution_count": 8,
   "metadata": {},
   "outputs": [
    {
     "name": "stdout",
     "output_type": "stream",
     "text": [
      "                                                df       sum_sq     mean_sq  \\\n",
      "C(platform)                                    1.0   359.643524  359.643524   \n",
      "C(channel)                                     1.0    52.763519   52.763519   \n",
      "C(gender)                                      1.0     2.980561    2.980561   \n",
      "C(income)                                      1.0     9.466801    9.466801   \n",
      "C(platform):C(channel)                         1.0     2.842930    2.842930   \n",
      "C(platform):C(gender)                          1.0     1.453874    1.453874   \n",
      "C(platform):C(income)                          1.0    25.251752   25.251752   \n",
      "C(channel):C(gender)                           1.0     2.229436    2.229436   \n",
      "C(channel):C(income)                           1.0     5.510846    5.510846   \n",
      "C(gender):C(income)                            1.0    65.461621   65.461621   \n",
      "C(platform):C(channel):C(gender)               1.0     1.847600    1.847600   \n",
      "C(platform):C(channel):C(income)               1.0     2.016574    2.016574   \n",
      "C(platform):C(income):C(gender)                1.0    31.833075   31.833075   \n",
      "C(income):C(channel):C(gender)                 1.0     0.159718    0.159718   \n",
      "C(platform):C(channel):C(gender):C(income)     1.0     7.305739    7.305739   \n",
      "Residual                                    1856.0  2494.206888    1.343861   \n",
      "\n",
      "                                                     F        PR(>F)  \n",
      "C(platform)                                 267.619492  2.684994e-56  \n",
      "C(channel)                                   39.262618  4.593811e-10  \n",
      "C(gender)                                     2.217908  1.365877e-01  \n",
      "C(income)                                     7.044477  8.018901e-03  \n",
      "C(platform):C(channel)                        2.115493  1.459842e-01  \n",
      "C(platform):C(gender)                         1.081863  2.984166e-01  \n",
      "C(platform):C(income)                        18.790442  1.537120e-05  \n",
      "C(channel):C(gender)                          1.658978  1.979020e-01  \n",
      "C(channel):C(income)                          4.100755  4.300697e-02  \n",
      "C(gender):C(income)                          48.711584  4.111872e-12  \n",
      "C(platform):C(channel):C(gender)              1.374844  2.411318e-01  \n",
      "C(platform):C(channel):C(income)              1.500582  2.207373e-01  \n",
      "C(platform):C(income):C(gender)              23.687765  1.228825e-06  \n",
      "C(income):C(channel):C(gender)                0.118850  7.303242e-01  \n",
      "C(platform):C(channel):C(gender):C(income)    5.436378  1.982806e-02  \n",
      "Residual                                           NaN           NaN  \n"
     ]
    }
   ],
   "source": [
    "# 使用强度ANOVA\n",
    "df = load_data(sql6)\n",
    "df = power_trans(df)\n",
    "platform = df[1]\n",
    "channel = df[2]\n",
    "gender = df[4]\n",
    "income = df[5]\n",
    "yt = df['yt']\n",
    "formula = \"\"\"\n",
    "yt~C(platform)+C(channel)+C(gender)+C(income)\n",
    "  +C(platform):C(channel)+C(platform):C(gender)+C(platform):C(income)+C(channel):C(gender)+C(channel):C(income)+C(gender):C(income)\n",
    "  +C(platform):C(channel):C(gender)+C(platform):C(channel):C(income)+C(platform):C(income):C(gender)+C(income):C(channel):C(gender)\n",
    "  +C(platform):C(channel):C(gender):C(income)\"\"\"\n",
    "anova_results = sm.stats.anova_lm(ols(formula,df).fit(),typ=1)\n",
    "print(anova_results)"
   ]
  },
  {
   "cell_type": "code",
   "execution_count": 9,
   "metadata": {},
   "outputs": [
    {
     "name": "stdout",
     "output_type": "stream",
     "text": [
      "                         df       sum_sq     mean_sq          F        PR(>F)\n",
      "C(channel)              1.0   137.995226  137.995226  28.368801  1.882956e-07\n",
      "C(income)               1.0     1.004807    1.004807   0.206566  6.497774e-01\n",
      "C(channel):C(income)    1.0     0.262256    0.262256   0.053914  8.165344e-01\n",
      "Residual              323.0  1571.178788    4.864331        NaN           NaN\n"
     ]
    }
   ],
   "source": [
    "analysis(sql1,'channel','income')"
   ]
  },
  {
   "cell_type": "code",
   "execution_count": 10,
   "metadata": {},
   "outputs": [
    {
     "name": "stdout",
     "output_type": "stream",
     "text": [
      "                          df       sum_sq    mean_sq         F    PR(>F)\n",
      "C(platform)              1.0    32.255300  32.255300  5.107447  0.024502\n",
      "C(income)                1.0     1.138997   1.138997  0.180354  0.671357\n",
      "C(platform):C(income)    1.0    28.372280  28.372280  4.492592  0.034819\n",
      "Residual               317.0  2001.965051   6.315347       NaN       NaN\n"
     ]
    }
   ],
   "source": [
    "analysis(sql2,'platform','income')"
   ]
  },
  {
   "cell_type": "code",
   "execution_count": 11,
   "metadata": {},
   "outputs": [
    {
     "name": "stdout",
     "output_type": "stream",
     "text": [
      "                        df       sum_sq   mean_sq         F    PR(>F)\n",
      "C(gender)              1.0     0.015724  0.015724  0.002784  0.957951\n",
      "C(income)              1.0     0.463533  0.463533  0.082082  0.774690\n",
      "C(gender):C(income)    1.0     2.306880  2.306880  0.408500  0.523210\n",
      "Residual             306.0  1728.043618  5.647201       NaN       NaN\n"
     ]
    }
   ],
   "source": [
    "analysis(sql3,'gender','income')"
   ]
  },
  {
   "cell_type": "code",
   "execution_count": 12,
   "metadata": {},
   "outputs": [
    {
     "name": "stdout",
     "output_type": "stream",
     "text": [
      "                          df       sum_sq    mean_sq         F    PR(>F)\n",
      "C(platform)              1.0    28.277411  28.277411  4.529813  0.034050\n",
      "C(gender)                1.0     1.004503   1.004503  0.160913  0.688577\n",
      "C(platform):C(gender)    1.0     7.811053   7.811053  1.251268  0.264124\n",
      "Residual               330.0  2060.028978   6.242512       NaN       NaN\n"
     ]
    }
   ],
   "source": [
    "analysis(sql4,'platform','gender')"
   ]
  },
  {
   "cell_type": "code",
   "execution_count": 13,
   "metadata": {},
   "outputs": [
    {
     "name": "stdout",
     "output_type": "stream",
     "text": [
      "                         df       sum_sq     mean_sq          F        PR(>F)\n",
      "C(channel)              1.0   142.635631  142.635631  30.319421  7.277374e-08\n",
      "C(gender)               1.0     0.045887    0.045887   0.009754  9.213853e-01\n",
      "C(channel):C(gender)    1.0     0.269190    0.269190   0.057221  8.110895e-01\n",
      "Residual              337.0  1585.393314    4.704431        NaN           NaN\n"
     ]
    }
   ],
   "source": [
    "analysis(sql5,'channel','gender')"
   ]
  }
 ],
 "metadata": {
  "kernelspec": {
   "display_name": "Python 3",
   "language": "python",
   "name": "python3"
  },
  "language_info": {
   "codemirror_mode": {
    "name": "ipython",
    "version": 3
   },
   "file_extension": ".py",
   "mimetype": "text/x-python",
   "name": "python",
   "nbconvert_exporter": "python",
   "pygments_lexer": "ipython3",
   "version": "3.6.4"
  }
 },
 "nbformat": 4,
 "nbformat_minor": 2
}
