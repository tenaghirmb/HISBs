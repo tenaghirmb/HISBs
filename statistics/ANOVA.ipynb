{
 "cells": [
  {
   "cell_type": "code",
   "execution_count": 1,
   "metadata": {},
   "outputs": [],
   "source": [
    "#! /usr/bin/python\n",
    "# -*- coding: utf-8 -*-"
   ]
  },
  {
   "cell_type": "code",
   "execution_count": 2,
   "metadata": {},
   "outputs": [],
   "source": [
    "import statsmodels.api as sm\n",
    "from statsmodels.formula.api import ols\n",
    "import pyodbc\n",
    "import textwrap\n",
    "import pandas as pd\n",
    "import numpy as np\n",
    "from scipy import stats"
   ]
  },
  {
   "cell_type": "code",
   "execution_count": 3,
   "metadata": {},
   "outputs": [],
   "source": [
    "# 总访问量 - channel*income\n",
    "sql1 = textwrap.dedent(\"\"\"\n",
    "    SELECT r.userid\n",
    "          ,r.channel\n",
    "          ,IIF(u.consumption>10000,'high','low') AS income\n",
    "          ,COUNT(r.url) AS [Number of Visits]\n",
    "    FROM [data].[dbo].[health_records] r\n",
    "    JOIN [data].[dbo].[user] u\n",
    "    ON r.userid = u.userid\n",
    "    GROUP BY r.userid, r.channel, u.consumption\n",
    "    HAVING r.channel IS NOT NULL AND u.consumption IS NOT NULL\n",
    "    ORDER BY r.userid\n",
    "\"\"\")\n",
    "# 总访问量 - platform*income\n",
    "sql2 = textwrap.dedent(\"\"\"\n",
    "    SELECT r.userid\n",
    "          ,r.platform\n",
    "          ,IIF(u.consumption>10000,'high','low') AS income\n",
    "          ,COUNT(r.url) AS [Number of Visits]\n",
    "    FROM [data].[dbo].[health_records] r\n",
    "    JOIN [data].[dbo].[user] u\n",
    "    ON r.userid = u.userid\n",
    "    GROUP BY r.userid, r.platform, u.consumption\n",
    "    HAVING r.platform IS NOT NULL AND u.consumption IS NOT NULL\n",
    "    ORDER BY r.userid\n",
    "\"\"\")\n",
    "# 总访问量 - gender*income\n",
    "sql3 = textwrap.dedent(\"\"\"\n",
    "    SELECT r.userid\n",
    "          ,u.gender\n",
    "          ,IIF(u.consumption>10000,'high','low') AS income\n",
    "          ,COUNT(r.url) AS [Number of Visits]\n",
    "    FROM [data].[dbo].[health_records] r\n",
    "    JOIN [data].[dbo].[user] u\n",
    "    ON r.userid = u.userid\n",
    "    GROUP BY r.userid, u.gender, u.consumption\n",
    "    HAVING u.gender IS NOT NULL AND u.consumption IS NOT NULL\n",
    "    ORDER BY r.userid\n",
    "\"\"\")\n",
    "# 总访问量 - platform*gender\n",
    "sql4 = textwrap.dedent(\"\"\"\n",
    "    SELECT r.userid\n",
    "          ,r.platform\n",
    "          ,u.gender\n",
    "          ,COUNT(r.url) AS [Number of Visits]\n",
    "    FROM [data].[dbo].[health_records] r\n",
    "    JOIN [data].[dbo].[user] u\n",
    "    ON r.userid = u.userid\n",
    "    GROUP BY r.userid, r.platform, u.gender\n",
    "    HAVING r.platform IS NOT NULL AND u.gender IS NOT NULL\n",
    "    ORDER BY r.userid\n",
    "\"\"\")\n",
    "# 总访问量 - channel*gender\n",
    "sql5 = textwrap.dedent(\"\"\"\n",
    "    SELECT r.userid\n",
    "          ,r.channel\n",
    "          ,u.gender\n",
    "          ,COUNT(r.url) AS [Number of Visits]\n",
    "    FROM [data].[dbo].[health_records] r\n",
    "    JOIN [data].[dbo].[user] u\n",
    "    ON r.userid = u.userid\n",
    "    GROUP BY r.userid, r.channel, u.gender\n",
    "    HAVING r.channel IS NOT NULL AND u.gender IS NOT NULL\n",
    "    ORDER BY r.userid\n",
    "\"\"\")\n",
    "# 使用强度 - all\n",
    "sql6 = textwrap.dedent(\"\"\"\n",
    "    SELECT r.userid\n",
    "          ,r.platform\n",
    "          ,r.channel\n",
    "          ,COUNT(r.url) AS [Use Intensity]\n",
    "          ,u.gender\n",
    "          ,IIF(u.consumption>10000,'high','low') AS income\n",
    "    FROM [data].[dbo].[health_records] r\n",
    "    JOIN [data].[dbo].[user] u\n",
    "    ON r.userid = u.userid\n",
    "    GROUP BY r.userid, r.date, r.platform, r.channel, u.gender, u.consumption\n",
    "    HAVING r.platform IS NOT NULL AND r.channel IS NOT NULL AND u.gender IS NOT NULL AND u.consumption IS NOT NULL\n",
    "    ORDER BY r.userid, r.date\n",
    "\"\"\")"
   ]
  },
  {
   "cell_type": "code",
   "execution_count": 4,
   "metadata": {},
   "outputs": [],
   "source": [
    "cnxn = pyodbc.connect('DRIVER={SQL Server};SERVER=localhost;DATABASE=data;')\n",
    "\n",
    "cursor = cnxn.cursor()"
   ]
  },
  {
   "cell_type": "code",
   "execution_count": 5,
   "metadata": {},
   "outputs": [],
   "source": [
    "# 执行sql，并将结果加载为dataframe\n",
    "def load_data(sql):\n",
    "    rows = cursor.execute(sql).fetchall()\n",
    "    return pd.DataFrame( [[ij for ij in i] for i in rows] )"
   ]
  },
  {
   "cell_type": "code",
   "execution_count": 6,
   "metadata": {},
   "outputs": [],
   "source": [
    "# 对数据做幂次变换\n",
    "def power_trans(df):\n",
    "    df['yt'], _ = stats.boxcox(df[3])\n",
    "    return df"
   ]
  },
  {
   "cell_type": "code",
   "execution_count": 7,
   "metadata": {},
   "outputs": [],
   "source": [
    "def analysis(sql,c1,c2):\n",
    "    df = load_data(sql)\n",
    "    df = power_trans(df)\n",
    "    locals()[c1] = df[1]\n",
    "    locals()[c2] = df[2]\n",
    "    yt = df['yt']\n",
    "    formula = 'yt~C({c1})+C({c2})+C({c1}):C({c2})'.format(c1=c1,c2=c2)\n",
    "    anova_results = sm.stats.anova_lm(ols(formula,df).fit(),typ=1)\n",
    "    print(anova_results)\n",
    "    return None"
   ]
  },
  {
   "cell_type": "code",
   "execution_count": 8,
   "metadata": {},
   "outputs": [
    {
     "name": "stdout",
     "output_type": "stream",
     "text": [
      "                                                df       sum_sq     mean_sq  \\\n",
      "C(platform)                                    1.0   517.689546  517.689546   \n",
      "C(channel)                                     1.0    70.738192   70.738192   \n",
      "C(gender)                                      1.0     4.977230    4.977230   \n",
      "C(income)                                      1.0     5.720823    5.720823   \n",
      "C(platform):C(channel)                         1.0     4.721865    4.721865   \n",
      "C(platform):C(gender)                          1.0     1.088443    1.088443   \n",
      "C(platform):C(income)                          1.0    48.393321   48.393321   \n",
      "C(channel):C(gender)                           1.0     2.931171    2.931171   \n",
      "C(channel):C(income)                           1.0     7.315779    7.315779   \n",
      "C(gender):C(income)                            1.0    81.699720   81.699720   \n",
      "C(platform):C(channel):C(gender)               1.0     2.258860    2.258860   \n",
      "C(platform):C(channel):C(income)               1.0     2.530030    2.530030   \n",
      "C(platform):C(income):C(gender)                1.0    41.316139   41.316139   \n",
      "C(income):C(channel):C(gender)                 1.0     0.196653    0.196653   \n",
      "C(platform):C(channel):C(gender):C(income)     1.0     1.848511    1.848511   \n",
      "Residual                                    1817.0  3214.650082    1.769208   \n",
      "\n",
      "                                                     F        PR(>F)  \n",
      "C(platform)                                 292.610978  6.106336e-61  \n",
      "C(channel)                                   39.982982  3.216457e-10  \n",
      "C(gender)                                     2.813254  9.366057e-02  \n",
      "C(income)                                     3.233551  7.231002e-02  \n",
      "C(platform):C(channel)                        2.668915  1.024990e-01  \n",
      "C(platform):C(gender)                         0.615215  4.329333e-01  \n",
      "C(platform):C(income)                        27.353106  1.890653e-07  \n",
      "C(channel):C(gender)                          1.656771  1.982038e-01  \n",
      "C(channel):C(income)                          4.135060  4.214863e-02  \n",
      "C(gender):C(income)                          46.178709  1.458485e-11  \n",
      "C(platform):C(channel):C(gender)              1.276764  2.586507e-01  \n",
      "C(platform):C(channel):C(income)              1.430036  2.319146e-01  \n",
      "C(platform):C(income):C(gender)              23.352907  1.461696e-06  \n",
      "C(income):C(channel):C(gender)                0.111153  7.388733e-01  \n",
      "C(platform):C(channel):C(gender):C(income)    1.044824  3.068382e-01  \n",
      "Residual                                           NaN           NaN  \n"
     ]
    }
   ],
   "source": [
    "# 使用强度ANOVA\n",
    "df = load_data(sql6)\n",
    "df = power_trans(df)\n",
    "platform = df[1]\n",
    "channel = df[2]\n",
    "gender = df[4]\n",
    "income = df[5]\n",
    "yt = df['yt']\n",
    "formula = \"\"\"\n",
    "yt~C(platform)+C(channel)+C(gender)+C(income)\n",
    "  +C(platform):C(channel)+C(platform):C(gender)+C(platform):C(income)+C(channel):C(gender)+C(channel):C(income)+C(gender):C(income)\n",
    "  +C(platform):C(channel):C(gender)+C(platform):C(channel):C(income)+C(platform):C(income):C(gender)+C(income):C(channel):C(gender)\n",
    "  +C(platform):C(channel):C(gender):C(income)\"\"\"\n",
    "anova_results = sm.stats.anova_lm(ols(formula,df).fit(),typ=1)\n",
    "print(anova_results)"
   ]
  },
  {
   "cell_type": "code",
   "execution_count": 9,
   "metadata": {},
   "outputs": [
    {
     "name": "stdout",
     "output_type": "stream",
     "text": [
      "                         df       sum_sq     mean_sq          F        PR(>F)\n",
      "C(channel)              1.0   135.741412  135.741412  29.631075  1.050536e-07\n",
      "C(income)               1.0     0.237820    0.237820   0.051914  8.199132e-01\n",
      "C(channel):C(income)    1.0     0.139685    0.139685   0.030492  8.614905e-01\n",
      "Residual              316.0  1447.611534    4.581049        NaN           NaN\n"
     ]
    }
   ],
   "source": [
    "analysis(sql1,'channel','income')"
   ]
  },
  {
   "cell_type": "code",
   "execution_count": 10,
   "metadata": {},
   "outputs": [
    {
     "name": "stdout",
     "output_type": "stream",
     "text": [
      "                          df       sum_sq    mean_sq         F    PR(>F)\n",
      "C(platform)              1.0    31.729551  31.729551  5.933395  0.015420\n",
      "C(income)                1.0     0.179808   0.179808  0.033624  0.854629\n",
      "C(platform):C(income)    1.0    33.163544  33.163544  6.201550  0.013287\n",
      "Residual               310.0  1657.762816   5.347622       NaN       NaN\n"
     ]
    }
   ],
   "source": [
    "analysis(sql2,'platform','income')"
   ]
  },
  {
   "cell_type": "code",
   "execution_count": 11,
   "metadata": {},
   "outputs": [
    {
     "name": "stdout",
     "output_type": "stream",
     "text": [
      "                        df       sum_sq   mean_sq         F    PR(>F)\n",
      "C(gender)              1.0     0.126911  0.126911  0.025218  0.873931\n",
      "C(income)              1.0     0.055511  0.055511  0.011030  0.916426\n",
      "C(gender):C(income)    1.0     2.862115  2.862115  0.568726  0.451357\n",
      "Residual             300.0  1509.750951  5.032503       NaN       NaN\n"
     ]
    }
   ],
   "source": [
    "analysis(sql3,'gender','income')"
   ]
  },
  {
   "cell_type": "code",
   "execution_count": 12,
   "metadata": {},
   "outputs": [
    {
     "name": "stdout",
     "output_type": "stream",
     "text": [
      "                          df       sum_sq    mean_sq         F    PR(>F)\n",
      "C(platform)              1.0    31.729551  31.729551  5.844744  0.016200\n",
      "C(gender)                1.0     0.825770   0.825770  0.152111  0.696794\n",
      "C(platform):C(gender)    1.0     7.373363   7.373363  1.358211  0.244744\n",
      "Residual               310.0  1682.907036   5.428732       NaN       NaN\n"
     ]
    }
   ],
   "source": [
    "analysis(sql4,'platform','gender')"
   ]
  },
  {
   "cell_type": "code",
   "execution_count": 13,
   "metadata": {},
   "outputs": [
    {
     "name": "stdout",
     "output_type": "stream",
     "text": [
      "                         df       sum_sq     mean_sq          F        PR(>F)\n",
      "C(channel)              1.0   135.741412  135.741412  29.634110  1.049033e-07\n",
      "C(gender)               1.0     0.108247    0.108247   0.023632  8.779236e-01\n",
      "C(channel):C(gender)    1.0     0.417508    0.417508   0.091147  7.629222e-01\n",
      "Residual              316.0  1447.463284    4.580580        NaN           NaN\n"
     ]
    }
   ],
   "source": [
    "analysis(sql5,'channel','gender')"
   ]
  }
 ],
 "metadata": {
  "kernelspec": {
   "display_name": "Python 3",
   "language": "python",
   "name": "python3"
  },
  "language_info": {
   "codemirror_mode": {
    "name": "ipython",
    "version": 3
   },
   "file_extension": ".py",
   "mimetype": "text/x-python",
   "name": "python",
   "nbconvert_exporter": "python",
   "pygments_lexer": "ipython3",
   "version": "3.6.4"
  }
 },
 "nbformat": 4,
 "nbformat_minor": 2
}
