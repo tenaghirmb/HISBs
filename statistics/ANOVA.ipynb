{
 "cells": [
  {
   "cell_type": "code",
   "execution_count": null,
   "metadata": {},
   "outputs": [],
   "source": [
    "#! /usr/bin/python\n",
    "# -*- coding: utf-8 -*-"
   ]
  },
  {
   "cell_type": "code",
   "execution_count": 2,
   "metadata": {},
   "outputs": [],
   "source": [
    "import statsmodels.api as sm\n",
    "from statsmodels.formula.api import ols\n",
    "import pyodbc\n",
    "import textwrap\n",
    "import pandas as pd\n",
    "import numpy as np\n",
    "from scipy import stats"
   ]
  },
  {
   "cell_type": "code",
   "execution_count": 3,
   "metadata": {},
   "outputs": [],
   "source": [
    "# 总访问量 - channel*income\n",
    "sql1 = textwrap.dedent(\"\"\"\n",
    "    SELECT r.userid\n",
    "          ,r.channel\n",
    "          ,IIF(u.consumption>10000,'high','low') AS income\n",
    "          ,COUNT(r.url) AS [Number of Visits]\n",
    "    FROM [data].[dbo].[health_records] r\n",
    "    JOIN [data].[dbo].[user] u\n",
    "    ON r.userid = u.userid\n",
    "    GROUP BY r.userid, r.channel, u.consumption\n",
    "    HAVING r.channel IS NOT NULL AND u.consumption IS NOT NULL\n",
    "    ORDER BY r.userid\n",
    "\"\"\")\n",
    "# 总访问量 - platform*income\n",
    "sql2 = textwrap.dedent(\"\"\"\n",
    "    SELECT r.userid\n",
    "          ,r.platform\n",
    "          ,IIF(u.consumption>10000,'high','low') AS income\n",
    "          ,COUNT(r.url) AS [Number of Visits]\n",
    "    FROM [data].[dbo].[health_records] r\n",
    "    JOIN [data].[dbo].[user] u\n",
    "    ON r.userid = u.userid\n",
    "    GROUP BY r.userid, r.platform, u.consumption\n",
    "    HAVING r.platform IS NOT NULL AND u.consumption IS NOT NULL\n",
    "    ORDER BY r.userid\n",
    "\"\"\")\n",
    "# 总访问量 - gender*income\n",
    "sql3 = textwrap.dedent(\"\"\"\n",
    "    SELECT r.userid\n",
    "          ,u.gender\n",
    "          ,IIF(u.consumption>10000,'high','low') AS income\n",
    "          ,COUNT(r.url) AS [Number of Visits]\n",
    "    FROM [data].[dbo].[health_records] r\n",
    "    JOIN [data].[dbo].[user] u\n",
    "    ON r.userid = u.userid\n",
    "    GROUP BY r.userid, u.gender, u.consumption\n",
    "    HAVING u.gender IS NOT NULL AND u.consumption IS NOT NULL\n",
    "    ORDER BY r.userid\n",
    "\"\"\")\n",
    "# 总访问量 - platform*gender\n",
    "sql4 = textwrap.dedent(\"\"\"\n",
    "    SELECT r.userid\n",
    "          ,r.platform\n",
    "          ,u.gender\n",
    "          ,COUNT(r.url) AS [Number of Visits]\n",
    "    FROM [data].[dbo].[health_records] r\n",
    "    JOIN [data].[dbo].[user] u\n",
    "    ON r.userid = u.userid\n",
    "    GROUP BY r.userid, r.platform, u.gender\n",
    "    HAVING r.platform IS NOT NULL AND u.gender IS NOT NULL\n",
    "    ORDER BY r.userid\n",
    "\"\"\")\n",
    "# 总访问量 - channel*gender\n",
    "sql5 = textwrap.dedent(\"\"\"\n",
    "    SELECT r.userid\n",
    "          ,r.channel\n",
    "          ,u.gender\n",
    "          ,COUNT(r.url) AS [Number of Visits]\n",
    "    FROM [data].[dbo].[health_records] r\n",
    "    JOIN [data].[dbo].[user] u\n",
    "    ON r.userid = u.userid\n",
    "    GROUP BY r.userid, r.channel, u.gender\n",
    "    HAVING r.channel IS NOT NULL AND u.gender IS NOT NULL\n",
    "    ORDER BY r.userid\n",
    "\"\"\")\n",
    "# 使用强度 - all\n",
    "sql6 = textwrap.dedent(\"\"\"\n",
    "    SELECT r.userid\n",
    "          ,r.platform\n",
    "          ,r.channel\n",
    "          ,COUNT(r.url) AS [Use Intensity]\n",
    "          ,u.gender\n",
    "          ,IIF(u.consumption>10000,'high','low') AS income\n",
    "    FROM [data].[dbo].[health_records] r\n",
    "    JOIN [data].[dbo].[user] u\n",
    "    ON r.userid = u.userid\n",
    "    GROUP BY r.userid, r.date, r.platform, r.channel, u.gender, u.consumption\n",
    "    HAVING r.platform IS NOT NULL AND r.channel IS NOT NULL AND u.gender IS NOT NULL AND u.consumption IS NOT NULL\n",
    "    ORDER BY r.userid, r.date\n",
    "\"\"\")"
   ]
  },
  {
   "cell_type": "code",
   "execution_count": 4,
   "metadata": {},
   "outputs": [],
   "source": [
    "cnxn = pyodbc.connect('DRIVER={SQL Server};SERVER=localhost;DATABASE=data;')\n",
    "\n",
    "cursor = cnxn.cursor()"
   ]
  },
  {
   "cell_type": "code",
   "execution_count": 5,
   "metadata": {},
   "outputs": [],
   "source": [
    "# 执行sql，并将结果加载为dataframe\n",
    "def load_data(sql):\n",
    "    rows = cursor.execute(sql).fetchall()\n",
    "    return pd.DataFrame( [[ij for ij in i] for i in rows] )"
   ]
  },
  {
   "cell_type": "code",
   "execution_count": 6,
   "metadata": {},
   "outputs": [],
   "source": [
    "# 对数据做幂次变换\n",
    "def power_trans(df):\n",
    "    df['yt'], _ = stats.boxcox(df[3])\n",
    "    return df"
   ]
  },
  {
   "cell_type": "code",
   "execution_count": 7,
   "metadata": {},
   "outputs": [],
   "source": [
    "def analysis(sql,c1,c2):\n",
    "    df = load_data(sql)\n",
    "    df = power_trans(df)\n",
    "    locals()[c1] = df[1]\n",
    "    locals()[c2] = df[2]\n",
    "    yt = df['yt']\n",
    "    formula = 'yt~C({c1})+C({c2})+C({c1}):C({c2})'.format(c1=c1,c2=c2)\n",
    "    anova_results = sm.stats.anova_lm(ols(formula,df).fit(),typ=1)\n",
    "    print(anova_results)\n",
    "    return None"
   ]
  },
  {
   "cell_type": "code",
   "execution_count": 8,
   "metadata": {},
   "outputs": [
    {
     "name": "stdout",
     "output_type": "stream",
     "text": [
      "                                                df       sum_sq     mean_sq  \\\n",
      "C(platform)                                    1.0   360.858896  360.858896   \n",
      "C(channel)                                     1.0    52.409793   52.409793   \n",
      "C(gender)                                      2.0     6.013870    3.006935   \n",
      "C(income)                                      1.0     9.406986    9.406986   \n",
      "C(platform):C(channel)                         1.0     2.829438    2.829438   \n",
      "C(platform):C(gender)                          2.0     1.501638    0.750819   \n",
      "C(platform):C(income)                          1.0    25.033553   25.033553   \n",
      "C(channel):C(gender)                           2.0     2.284812    1.142406   \n",
      "C(channel):C(income)                           1.0     5.477789    5.477789   \n",
      "C(gender):C(income)                            2.0    66.999799   33.499899   \n",
      "C(platform):C(channel):C(gender)               2.0    11.598064    5.799032   \n",
      "C(platform):C(channel):C(income)               1.0     0.201377    0.201377   \n",
      "C(platform):C(income):C(gender)                2.0    34.922386   17.461193   \n",
      "C(income):C(channel):C(gender)                 2.0     3.865817    1.932908   \n",
      "C(platform):C(channel):C(gender):C(income)     2.0     4.587469    2.293735   \n",
      "Residual                                    1858.0  2480.768041    1.335182   \n",
      "\n",
      "                                                     F        PR(>F)  \n",
      "C(platform)                                 270.269456  8.329606e-57  \n",
      "C(channel)                                   39.252922  4.615150e-10  \n",
      "C(gender)                                     2.252079  1.054674e-01  \n",
      "C(income)                                     7.045471  8.014393e-03  \n",
      "C(platform):C(channel)                        2.119140  1.456371e-01  \n",
      "C(platform):C(gender)                         0.562335  5.699740e-01  \n",
      "C(platform):C(income)                        18.749170  1.570319e-05  \n",
      "C(channel):C(gender)                          0.855618  4.251878e-01  \n",
      "C(channel):C(income)                          4.102654  4.295866e-02  \n",
      "C(gender):C(income)                          25.090138  1.770269e-11  \n",
      "C(platform):C(channel):C(gender)              4.343252  1.312639e-02  \n",
      "C(platform):C(channel):C(income)              0.150824  6.977939e-01  \n",
      "C(platform):C(income):C(gender)              13.077763  2.290894e-06  \n",
      "C(income):C(channel):C(gender)                1.447674  2.353816e-01  \n",
      "C(platform):C(channel):C(gender):C(income)    1.717919  1.797240e-01  \n",
      "Residual                                           NaN           NaN  \n"
     ]
    }
   ],
   "source": [
    "# 使用强度ANOVA\n",
    "df = load_data(sql6)\n",
    "df = power_trans(df)\n",
    "platform = df[1]\n",
    "channel = df[2]\n",
    "gender = df[4]\n",
    "income = df[5]\n",
    "yt = df['yt']\n",
    "formula = \"\"\"\n",
    "yt~C(platform)+C(channel)+C(gender)+C(income)\n",
    "  +C(platform):C(channel)+C(platform):C(gender)+C(platform):C(income)+C(channel):C(gender)+C(channel):C(income)+C(gender):C(income)\n",
    "  +C(platform):C(channel):C(gender)+C(platform):C(channel):C(income)+C(platform):C(income):C(gender)+C(income):C(channel):C(gender)\n",
    "  +C(platform):C(channel):C(gender):C(income)\"\"\"\n",
    "anova_results = sm.stats.anova_lm(ols(formula,df).fit(),typ=1)\n",
    "print(anova_results)"
   ]
  },
  {
   "cell_type": "code",
   "execution_count": 9,
   "metadata": {},
   "outputs": [
    {
     "name": "stdout",
     "output_type": "stream",
     "text": [
      "                         df       sum_sq     mean_sq          F        PR(>F)\n",
      "C(channel)              1.0   137.995226  137.995226  28.368801  1.882956e-07\n",
      "C(income)               1.0     1.004807    1.004807   0.206566  6.497774e-01\n",
      "C(channel):C(income)    1.0     0.262256    0.262256   0.053914  8.165344e-01\n",
      "Residual              323.0  1571.178788    4.864331        NaN           NaN\n"
     ]
    }
   ],
   "source": [
    "analysis(sql1,'channel','income')"
   ]
  },
  {
   "cell_type": "code",
   "execution_count": 10,
   "metadata": {},
   "outputs": [
    {
     "name": "stdout",
     "output_type": "stream",
     "text": [
      "                          df       sum_sq    mean_sq         F    PR(>F)\n",
      "C(platform)              1.0    32.255300  32.255300  5.107447  0.024502\n",
      "C(income)                1.0     1.138997   1.138997  0.180354  0.671357\n",
      "C(platform):C(income)    1.0    28.372280  28.372280  4.492592  0.034819\n",
      "Residual               317.0  2001.965051   6.315347       NaN       NaN\n"
     ]
    }
   ],
   "source": [
    "analysis(sql2,'platform','income')"
   ]
  },
  {
   "cell_type": "code",
   "execution_count": 11,
   "metadata": {},
   "outputs": [
    {
     "name": "stdout",
     "output_type": "stream",
     "text": [
      "                        df       sum_sq   mean_sq         F    PR(>F)\n",
      "C(gender)              2.0     5.560832  2.780416  0.499059  0.607595\n",
      "C(income)              1.0     0.458186  0.458186  0.082240  0.774478\n",
      "C(gender):C(income)    2.0     4.980009  2.490005  0.446933  0.640004\n",
      "Residual             306.0  1704.823582  5.571319       NaN       NaN\n"
     ]
    }
   ],
   "source": [
    "analysis(sql3,'gender','income')"
   ]
  },
  {
   "cell_type": "code",
   "execution_count": 12,
   "metadata": {},
   "outputs": [
    {
     "name": "stdout",
     "output_type": "stream",
     "text": [
      "                          df       sum_sq    mean_sq         F    PR(>F)\n",
      "C(platform)              1.0    29.668340  29.668340  4.816120  0.028891\n",
      "C(gender)                2.0     5.435001   2.717500  0.441137  0.643683\n",
      "C(platform):C(gender)    2.0     8.318575   4.159288  0.675185  0.509764\n",
      "Residual               330.0  2032.871371   6.160216       NaN       NaN\n"
     ]
    }
   ],
   "source": [
    "analysis(sql4,'platform','gender')"
   ]
  },
  {
   "cell_type": "code",
   "execution_count": 13,
   "metadata": {},
   "outputs": [
    {
     "name": "stdout",
     "output_type": "stream",
     "text": [
      "                         df       sum_sq     mean_sq          F        PR(>F)\n",
      "C(channel)              1.0   140.399593  140.399593  30.216489  7.640462e-08\n",
      "C(gender)               2.0     4.887775    2.443887   0.525968  5.914673e-01\n",
      "C(channel):C(gender)    2.0     0.266603    0.133302   0.028689  9.717211e-01\n",
      "Residual              337.0  1565.855738    4.646456        NaN           NaN\n"
     ]
    }
   ],
   "source": [
    "analysis(sql5,'channel','gender')"
   ]
  }
 ],
 "metadata": {
  "kernelspec": {
   "display_name": "Python 3",
   "language": "python",
   "name": "python3"
  },
  "language_info": {
   "codemirror_mode": {
    "name": "ipython",
    "version": 3
   },
   "file_extension": ".py",
   "mimetype": "text/x-python",
   "name": "python",
   "nbconvert_exporter": "python",
   "pygments_lexer": "ipython3",
   "version": "3.6.4"
  }
 },
 "nbformat": 4,
 "nbformat_minor": 2
}
