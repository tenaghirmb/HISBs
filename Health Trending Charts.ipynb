{
 "cells": [
  {
   "cell_type": "code",
   "execution_count": null,
   "metadata": {
    "collapsed": true
   },
   "outputs": [],
   "source": [
    "#！/usr/bin/python\n",
    "# -*- coding: utf-8 -*-"
   ]
  },
  {
   "cell_type": "code",
   "execution_count": null,
   "metadata": {},
   "outputs": [],
   "source": [
    "import pyodbc\n",
    "import textwrap\n",
    "import pandas as pd\n",
    "\n",
    "import plotly\n",
    "import plotly.plotly as py\n",
    "import plotly.graph_objs as go"
   ]
  },
  {
   "cell_type": "code",
   "execution_count": null,
   "metadata": {},
   "outputs": [],
   "source": [
    "'''\n",
    "Seasoning Trends: level='quarter'\n",
    "Week Trends: level='weekday'\n",
    "Time Trends: level='hour'\n",
    "'''\n",
    "\n",
    "raw_sql = textwrap.dedent(\"\"\"\n",
    "    SET DATEFIRST 1;\n",
    "    SELECT DATEPART({level},r.timestamp1) AS {level}\n",
    "          ,s.category AS category\n",
    "          ,COUNT(r.url) AS [Number of visits]\n",
    "          ,COUNT(DISTINCT r.userid) AS [Unique Visitors]\n",
    "    FROM [data].[dbo].[health_records] r\n",
    "    JOIN [data].[dbo].[healthsites] s\n",
    "    ON r.website = s.abbreviation\n",
    "    GROUP BY DATEPART({level},r.timestamp1), s.category\n",
    "    ORDER BY {level}, category\n",
    "\n",
    "\"\"\")"
   ]
  },
  {
   "cell_type": "code",
   "execution_count": null,
   "metadata": {
    "collapsed": true
   },
   "outputs": [],
   "source": [
    "cnxn = pyodbc.connect('DRIVER={SQL Server};SERVER=localhost;DATABASE=data;')\n",
    "\n",
    "cursor = cnxn.cursor()"
   ]
  },
  {
   "cell_type": "code",
   "execution_count": null,
   "metadata": {
    "collapsed": true
   },
   "outputs": [],
   "source": [
    "color_picker = {\n",
    "    'E-pharmacy': 'rgb(55, 83, 109)',\n",
    "    'Lifestyle': 'rgb(22, 96, 167)',\n",
    "    'Medical': 'rgb(205, 12, 24)',\n",
    "}"
   ]
  },
  {
   "cell_type": "code",
   "execution_count": null,
   "metadata": {},
   "outputs": [],
   "source": [
    "title_switcher = {\n",
    "    'quarter': 'Seasoning Trends',\n",
    "    'weekday': 'Week Trends',\n",
    "    'hour': 'Time Trends',\n",
    "}"
   ]
  },
  {
   "cell_type": "code",
   "execution_count": null,
   "metadata": {},
   "outputs": [],
   "source": [
    "plotly.tools.set_credentials_file(username='tenaghirmb', api_key='please_use_your_own_api')"
   ]
  },
  {
   "cell_type": "code",
   "execution_count": null,
   "metadata": {},
   "outputs": [],
   "source": [
    "plotly.offline.init_notebook_mode(connected=True)"
   ]
  },
  {
   "cell_type": "code",
   "execution_count": null,
   "metadata": {},
   "outputs": [],
   "source": [
    "def to_df(level):\n",
    "    sql = raw_sql.format(level=level)\n",
    "    rows = cursor.execute(sql).fetchall()\n",
    "    df = pd.DataFrame( [[ij for ij in i] for i in rows] )\n",
    "    df.rename(columns={0: level, 1:'category', 2: 'Number of visits', 3:'Unique Visitors'}, inplace=True)\n",
    "    return df"
   ]
  },
  {
   "cell_type": "code",
   "execution_count": null,
   "metadata": {
    "collapsed": true
   },
   "outputs": [],
   "source": [
    "def make_trace(df, category, target):\n",
    "    is_category = df['category'] == category\n",
    "    return go.Scatter(\n",
    "        x = df[is_category].iloc[:, 0],\n",
    "        y = df[is_category][target],\n",
    "        name = category,\n",
    "        mode = 'lines+markers',\n",
    "        line = dict(\n",
    "            color = color_picker.get(category),\n",
    "            width = 3,\n",
    "        )\n",
    "    )"
   ]
  },
  {
   "cell_type": "code",
   "execution_count": null,
   "metadata": {},
   "outputs": [],
   "source": [
    "def make_charts(level, target):\n",
    "    df = to_df(level)\n",
    "    Epharmacy = make_trace(df, 'E-pharmacy', target)\n",
    "    Lifestyle = make_trace(df, 'Lifestyle', target)\n",
    "    Medical = make_trace(df, 'Medical', target)\n",
    "    data = [Medical, Lifestyle, Epharmacy]\n",
    "    layout = go.Layout(\n",
    "        xaxis=dict(\n",
    "            title=level,\n",
    "            titlefont=dict(\n",
    "                size=16,\n",
    "            ),\n",
    "            tickfont=dict(\n",
    "                size=14,\n",
    "            ),\n",
    "            nticks=24,\n",
    "            type='category',\n",
    "        ),\n",
    "        yaxis=dict(\n",
    "            title=target,\n",
    "            titlefont=dict(\n",
    "                size=16,\n",
    "            ),\n",
    "            tickfont=dict(\n",
    "                size=14,\n",
    "            )\n",
    "        ),\n",
    "        legend=dict(\n",
    "            x=1.0,\n",
    "            y=1.0,\n",
    "            bgcolor='rgba(255, 255, 255, 0)',\n",
    "            bordercolor='rgba(255, 255, 255, 0)'\n",
    "        ),\n",
    "    )\n",
    "    fig = go.Figure(data=data, layout=layout)\n",
    "    plotly.offline.iplot(fig, filename=title_switcher.get(level)+' - '+target)\n",
    "    #py.iplot(fig, filename=title_switcher.get(level)+' - '+target)"
   ]
  },
  {
   "cell_type": "code",
   "execution_count": null,
   "metadata": {},
   "outputs": [],
   "source": [
    "make_charts('quarter', 'Number of visits')\n",
    "make_charts('quarter', 'Unique Visitors')\n",
    "make_charts('weekday', 'Number of visits')\n",
    "make_charts('weekday', 'Unique Visitors')\n",
    "make_charts('hour', 'Number of visits')\n",
    "make_charts('hour', 'Unique Visitors')"
   ]
  }
 ],
 "metadata": {
  "kernelspec": {
   "display_name": "Python 3",
   "language": "python",
   "name": "python3"
  },
  "language_info": {
   "codemirror_mode": {
    "name": "ipython",
    "version": 3
   },
   "file_extension": ".py",
   "mimetype": "text/x-python",
   "name": "python",
   "nbconvert_exporter": "python",
   "pygments_lexer": "ipython3",
   "version": "3.6.2"
  }
 },
 "nbformat": 4,
 "nbformat_minor": 2
}
