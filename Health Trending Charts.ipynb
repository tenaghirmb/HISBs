{
 "cells": [
  {
   "cell_type": "code",
   "execution_count": null,
   "metadata": {
    "collapsed": true
   },
   "outputs": [],
   "source": [
    "#！/usr/bin/python\n",
    "# -*- coding: utf-8 -*-"
   ]
  },
  {
   "cell_type": "code",
   "execution_count": null,
   "metadata": {},
   "outputs": [],
   "source": [
    "import pyodbc\n",
    "import textwrap\n",
    "import pandas as pd\n",
    "\n",
    "import plotly\n",
    "import plotly.plotly as py\n",
    "import plotly.graph_objs as go"
   ]
  },
  {
   "cell_type": "code",
   "execution_count": null,
   "metadata": {},
   "outputs": [],
   "source": [
    "'''\n",
    "Seasoning Trends: level='quarter'\n",
    "Week Trends: level='weekday'\n",
    "Time Trends: level='hour'\n",
    "'''\n",
    "\n",
    "raw_sql = textwrap.dedent(\"\"\"\n",
    "    SET DATEFIRST 1;\n",
    "    SELECT DATEPART({level},timestamp1) AS {level},\n",
    "           website,\n",
    "           COUNT(url),\n",
    "           COUNT(DISTINCT userid)\n",
    "    FROM [data].[dbo].[health_records]\n",
    "    GROUP BY DATEPART({level},timestamp1), website\n",
    "    ORDER BY {level}, website\n",
    "\"\"\")"
   ]
  },
  {
   "cell_type": "code",
   "execution_count": null,
   "metadata": {
    "collapsed": true
   },
   "outputs": [],
   "source": [
    "cnxn = pyodbc.connect('DRIVER={SQL Server};SERVER=localhost;DATABASE=data;')\n",
    "\n",
    "cursor = cnxn.cursor()"
   ]
  },
  {
   "cell_type": "code",
   "execution_count": null,
   "metadata": {
    "collapsed": true
   },
   "outputs": [],
   "source": [
    "color_picker = {\n",
    "    'haodf': 'rgb(55, 83, 109)',\n",
    "    'cndzys': 'rgb(26, 118, 255)',\n",
    "}"
   ]
  },
  {
   "cell_type": "code",
   "execution_count": null,
   "metadata": {},
   "outputs": [],
   "source": [
    "title_switcher = {\n",
    "    'quarter': 'Seasoning Trends',\n",
    "    'weekday': 'Week Trends',\n",
    "    'hour': 'Time Trends',\n",
    "}"
   ]
  },
  {
   "cell_type": "code",
   "execution_count": null,
   "metadata": {},
   "outputs": [],
   "source": [
    "plotly.tools.set_credentials_file(username='tenaghirmb', api_key='please_use_your_own_api')"
   ]
  },
  {
   "cell_type": "code",
   "execution_count": null,
   "metadata": {},
   "outputs": [],
   "source": [
    "def to_df(level):\n",
    "    sql = raw_sql.format(level=level)\n",
    "    rows = cursor.execute(sql).fetchall()\n",
    "    df = pd.DataFrame( [[ij for ij in i] for i in rows] )\n",
    "    df.rename(columns={0: level, 1:'website', 2: 'Number of visits', 3:'Unique Visitors'}, inplace=True)\n",
    "    return df"
   ]
  },
  {
   "cell_type": "code",
   "execution_count": null,
   "metadata": {
    "collapsed": true
   },
   "outputs": [],
   "source": [
    "def make_bars(df, website, target):\n",
    "    is_website = df['website'] == website\n",
    "    return go.Bar(\n",
    "        x = df[is_website].iloc[:, 0],\n",
    "        y = df[is_website][target],\n",
    "        name = website,\n",
    "        marker = dict(\n",
    "            color = color_picker.get(website),\n",
    "        )\n",
    "    )"
   ]
  },
  {
   "cell_type": "code",
   "execution_count": null,
   "metadata": {},
   "outputs": [],
   "source": [
    "def make_charts(level, target):\n",
    "    df = to_df(level)\n",
    "    haodf = make_bars(df, 'haodf', target)\n",
    "    cndzys = make_bars(df, 'cndzys', target)\n",
    "    data = [haodf, cndzys]\n",
    "    layout = go.Layout(\n",
    "        title=title_switcher.get(level),\n",
    "        xaxis=dict(\n",
    "            title=level,\n",
    "            titlefont=dict(\n",
    "                size=16,\n",
    "                color='rgb(107, 107, 107)'\n",
    "            ),\n",
    "            tickfont=dict(\n",
    "                size=14,\n",
    "                color='rgb(107, 107, 107)'\n",
    "            ),\n",
    "            nticks=40\n",
    "        ),\n",
    "        yaxis=dict(\n",
    "            title=target,\n",
    "            titlefont=dict(\n",
    "                size=16,\n",
    "                color='rgb(107, 107, 107)'\n",
    "            ),\n",
    "            tickfont=dict(\n",
    "                size=14,\n",
    "                color='rgb(107, 107, 107)'\n",
    "            )\n",
    "        ),\n",
    "        legend=dict(\n",
    "            x=1.0,\n",
    "            y=1.0,\n",
    "            bgcolor='rgba(255, 255, 255, 0)',\n",
    "            bordercolor='rgba(255, 255, 255, 0)'\n",
    "        ),\n",
    "        barmode='group',\n",
    "        bargap=0.15,\n",
    "        bargroupgap=0.1\n",
    "    )\n",
    "    fig = go.Figure(data=data, layout=layout)\n",
    "    py.iplot(fig, filename=title_switcher.get(level)+' - '+target)"
   ]
  },
  {
   "cell_type": "code",
   "execution_count": null,
   "metadata": {},
   "outputs": [],
   "source": [
    "make_charts('quarter', 'Number of visits')\n",
    "make_charts('quarter', 'Unique Visitors')\n",
    "make_charts('weekday', 'Number of visits')\n",
    "make_charts('weekday', 'Unique Visitors')\n",
    "make_charts('hour', 'Number of visits')\n",
    "make_charts('hour', 'Unique Visitors')"
   ]
  }
 ],
 "metadata": {
  "kernelspec": {
   "display_name": "Python 3",
   "language": "python",
   "name": "python3"
  },
  "language_info": {
   "codemirror_mode": {
    "name": "ipython",
    "version": 3
   },
   "file_extension": ".py",
   "mimetype": "text/x-python",
   "name": "python",
   "nbconvert_exporter": "python",
   "pygments_lexer": "ipython3",
   "version": "3.6.2"
  }
 },
 "nbformat": 4,
 "nbformat_minor": 2
}
