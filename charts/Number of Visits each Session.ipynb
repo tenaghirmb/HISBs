{
 "cells": [
  {
   "cell_type": "code",
   "execution_count": null,
   "metadata": {},
   "outputs": [],
   "source": [
    "#！/usr/bin/python\n",
    "# -*- coding: utf-8 -*-"
   ]
  },
  {
   "cell_type": "code",
   "execution_count": null,
   "metadata": {},
   "outputs": [],
   "source": [
    "import pyodbc\n",
    "import textwrap\n",
    "import pandas as pd\n",
    "\n",
    "import plotly\n",
    "import plotly.plotly as py\n",
    "import plotly.graph_objs as go"
   ]
  },
  {
   "cell_type": "code",
   "execution_count": null,
   "metadata": {},
   "outputs": [],
   "source": [
    "sql1 = textwrap.dedent(\"\"\"\n",
    "    IF OBJECT_ID('tempdb..#Intensity') IS NOT NULL\n",
    "        DROP TABLE #Intensity\n",
    "\"\"\")\n",
    "sql2 = textwrap.dedent(\"\"\"\n",
    "    SELECT userid\n",
    "          ,date\n",
    "          ,COUNT(url) AS Intensity\n",
    "    INTO #Intensity\n",
    "    FROM [data].[dbo].[health_records]\n",
    "    GROUP BY userid, date\n",
    "    ORDER BY userid, date\n",
    "\"\"\")\n",
    "sql3 = textwrap.dedent(\"\"\"\n",
    "    SELECT Intensity\n",
    "          ,COUNT(Intensity)\n",
    "    FROM #Intensity\n",
    "    GROUP BY Intensity\n",
    "    ORDER BY Intensity\n",
    "\"\"\")"
   ]
  },
  {
   "cell_type": "code",
   "execution_count": null,
   "metadata": {},
   "outputs": [],
   "source": [
    "sql4 = textwrap.dedent(\"\"\"\n",
    "    SELECT userid\n",
    "          ,date\n",
    "          ,COUNT(url) AS Intensity\n",
    "    FROM [data].[dbo].[health_records]\n",
    "    GROUP BY userid, date\n",
    "    ORDER BY userid, date\n",
    "\"\"\")"
   ]
  },
  {
   "cell_type": "code",
   "execution_count": null,
   "metadata": {},
   "outputs": [],
   "source": [
    "cnxn = pyodbc.connect('DRIVER={SQL Server};SERVER=localhost;DATABASE=data;')\n",
    "\n",
    "cursor = cnxn.cursor()"
   ]
  },
  {
   "cell_type": "code",
   "execution_count": null,
   "metadata": {
    "scrolled": true
   },
   "outputs": [],
   "source": [
    "cursor.execute(sql1)\n",
    "cursor.execute(sql2)\n",
    "rows=cursor.execute(sql3).fetchall()"
   ]
  },
  {
   "cell_type": "code",
   "execution_count": null,
   "metadata": {},
   "outputs": [],
   "source": [
    "rowsx=cursor.execute(sql4).fetchall()"
   ]
  },
  {
   "cell_type": "code",
   "execution_count": null,
   "metadata": {
    "scrolled": true
   },
   "outputs": [],
   "source": [
    "df = pd.DataFrame( [[ij for ij in i] for i in rows] )\n",
    "df.rename(columns={0:'Intensity', 1: 'Sessions'}, inplace=True)"
   ]
  },
  {
   "cell_type": "code",
   "execution_count": null,
   "metadata": {},
   "outputs": [],
   "source": [
    "# 查看intensity的具体情况\n",
    "dfx = pd.DataFrame( [[ij for ij in i] for i in rowsx] )\n",
    "dfx.rename(columns={0:'userid', 1: 'date', 2:'intensity'}, inplace=True)\n",
    "# 剔除intensity小于3的情况\n",
    "a=list(dfx.intensity)\n",
    "b=set([1,2])\n",
    "ret=list(set(a)^b)\n",
    "dfx = dfx[dfx.intensity.isin(ret)]\n",
    "# intensity的描述统计\n",
    "dfx.describe()"
   ]
  },
  {
   "cell_type": "code",
   "execution_count": null,
   "metadata": {
    "scrolled": true
   },
   "outputs": [],
   "source": [
    "%matplotlib inline\n",
    "\n",
    "import matplotlib.pyplot as plt\n",
    "# intensity的箱线图\n",
    "plt.figure()\n",
    "p=dfx.boxplot(return_type='dict')\n",
    "# 获取异常值\n",
    "y=p['fliers'][0].get_ydata()\n",
    "y.sort()\n",
    "plt.show()\n",
    "len(y)\n",
    "y"
   ]
  },
  {
   "cell_type": "code",
   "execution_count": null,
   "metadata": {},
   "outputs": [],
   "source": [
    "plotly.tools.set_credentials_file(username='tenaghirmb', api_key='please_use_your_own_key')\n",
    "\n",
    "plotly.offline.init_notebook_mode(connected=True)"
   ]
  },
  {
   "cell_type": "code",
   "execution_count": null,
   "metadata": {},
   "outputs": [],
   "source": [
    "trace = go.Scatter(\n",
    "    x = df[df.Intensity.isin(range(3,242))]['Intensity'],\n",
    "    y = df[df.Intensity.isin(range(3,242))]['Sessions'],\n",
    "    mode = 'lines',\n",
    ")\n",
    "\n",
    "data = [trace]\n",
    "\n",
    "layout = go.Layout(\n",
    "    xaxis=dict(\n",
    "        title='Intensity of Use',\n",
    "        titlefont=dict(\n",
    "            size=16,\n",
    "        ),\n",
    "        ticklen=2,\n",
    "        tickfont=dict(\n",
    "            size=12,\n",
    "        ),\n",
    "        nticks=8,\n",
    "        #range=[3,241],\n",
    "        #type='log',\n",
    "    ),\n",
    "    yaxis=dict(\n",
    "        title='Number of Sessions',\n",
    "        titlefont=dict(\n",
    "            size=16,\n",
    "        ),\n",
    "        tickfont=dict(\n",
    "            size=11,\n",
    "        ),\n",
    "        nticks=20,\n",
    "    ),\n",
    ")\n",
    "\n",
    "fig = go.Figure(data=data, layout=layout)\n",
    "\n",
    "plotly.offline.iplot(fig, filename='Number of Visits each Session', image='png')\n",
    "\n",
    "#py.iplot(fig, filename='Number of Visits each Session')"
   ]
  }
 ],
 "metadata": {
  "kernelspec": {
   "display_name": "Python 3",
   "language": "python",
   "name": "python3"
  },
  "language_info": {
   "codemirror_mode": {
    "name": "ipython",
    "version": 3
   },
   "file_extension": ".py",
   "mimetype": "text/x-python",
   "name": "python",
   "nbconvert_exporter": "python",
   "pygments_lexer": "ipython3",
   "version": "3.6.4"
  }
 },
 "nbformat": 4,
 "nbformat_minor": 2
}
