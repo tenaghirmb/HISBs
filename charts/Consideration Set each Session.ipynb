{
 "cells": [
  {
   "cell_type": "code",
   "execution_count": null,
   "metadata": {},
   "outputs": [],
   "source": [
    "#！/usr/bin/python\n",
    "# -*- coding: utf-8 -*-"
   ]
  },
  {
   "cell_type": "code",
   "execution_count": null,
   "metadata": {},
   "outputs": [],
   "source": [
    "import pyodbc\n",
    "import textwrap\n",
    "import pandas as pd\n",
    "\n",
    "import plotly\n",
    "import plotly.plotly as py\n",
    "import plotly.graph_objs as go"
   ]
  },
  {
   "cell_type": "code",
   "execution_count": null,
   "metadata": {},
   "outputs": [],
   "source": [
    "sql1 = textwrap.dedent(\"\"\"\n",
    "    IF OBJECT_ID('tempdb..#Diversity') IS NOT NULL\n",
    "        DROP TABLE #Diversity\n",
    "\"\"\")\n",
    "sql2 = textwrap.dedent(\"\"\"\n",
    "    SELECT userid\n",
    "          ,date\n",
    "          ,COUNT(DISTINCT website) AS cs\n",
    "    INTO #Diversity\n",
    "    FROM [data].[dbo].[health_records]\n",
    "    GROUP BY userid, date\n",
    "    ORDER BY userid, date\n",
    "\"\"\")\n",
    "sql3 = textwrap.dedent(\"\"\"\n",
    "    SELECT cs\n",
    "          ,COUNT(cs) AS sessions\n",
    "          ,CONVERT(DECIMAL(4,4), COUNT(cs)/CONVERT(DECIMAL(6,2), (SELECT COUNT(cs) FROM #Diversity))) AS pct\n",
    "    FROM #Diversity\n",
    "    GROUP BY cs\n",
    "    ORDER BY cs\n",
    "\"\"\")"
   ]
  },
  {
   "cell_type": "code",
   "execution_count": null,
   "metadata": {},
   "outputs": [],
   "source": [
    "cnxn = pyodbc.connect('DRIVER={SQL Server};SERVER=localhost;DATABASE=data;')\n",
    "\n",
    "cursor = cnxn.cursor()"
   ]
  },
  {
   "cell_type": "code",
   "execution_count": null,
   "metadata": {
    "scrolled": true
   },
   "outputs": [],
   "source": [
    "cursor.execute(sql1)\n",
    "cursor.execute(sql2)\n",
    "rows=cursor.execute(sql3).fetchall()"
   ]
  },
  {
   "cell_type": "code",
   "execution_count": null,
   "metadata": {},
   "outputs": [],
   "source": [
    "# 加载查询结果并对列命名\n",
    "df = pd.DataFrame( [[ij for ij in i] for i in rows] )\n",
    "df.rename(columns={0:'Consideration Set', 1: 'Sessions', 2:'Percentage'}, inplace=True)"
   ]
  },
  {
   "cell_type": "code",
   "execution_count": null,
   "metadata": {
    "scrolled": true
   },
   "outputs": [],
   "source": [
    "# 访问多个网站的情况\n",
    "dfx = df.loc[1:]\n",
    "# 重新计算分布\n",
    "dfx['Percentage'] = dfx.Sessions/dfx.Sessions.sum()\n",
    "dfx"
   ]
  },
  {
   "cell_type": "code",
   "execution_count": null,
   "metadata": {},
   "outputs": [],
   "source": [
    "# 计算访问2或3个网站的session的占比\n",
    "dfx.loc[1:2].Percentage.sum()"
   ]
  },
  {
   "cell_type": "code",
   "execution_count": null,
   "metadata": {},
   "outputs": [],
   "source": [
    "# 计算平均consideration set\n",
    "t = df['Consideration Set']*df['Percentage']\n",
    "t.sum()"
   ]
  },
  {
   "cell_type": "code",
   "execution_count": null,
   "metadata": {},
   "outputs": [],
   "source": [
    "# 计算平均consideration set（除去只访问1个网站的情况）\n",
    "t = dfx['Consideration Set']*dfx['Percentage']\n",
    "t.sum()"
   ]
  },
  {
   "cell_type": "code",
   "execution_count": null,
   "metadata": {},
   "outputs": [],
   "source": [
    "# 添加数据，使图更美观\n",
    "df.loc[6] = [7,0,0]\n",
    "df"
   ]
  },
  {
   "cell_type": "code",
   "execution_count": null,
   "metadata": {},
   "outputs": [],
   "source": [
    "plotly.tools.set_credentials_file(username='tenaghirmb', api_key='please_use_your_own_key')\n",
    "\n",
    "plotly.offline.init_notebook_mode(connected=True)"
   ]
  },
  {
   "cell_type": "code",
   "execution_count": null,
   "metadata": {},
   "outputs": [],
   "source": [
    "trace = go.Bar(\n",
    "    x = df['Consideration Set'],\n",
    "    y = df['Percentage'],\n",
    "    text = df['Percentage'].apply(lambda x:format(x,'.2%')),\n",
    "    textposition = 'outside',\n",
    "    textfont = dict(size=9,),\n",
    "    width = [0.35]*7\n",
    ")\n",
    "\n",
    "data = [trace]\n",
    "\n",
    "layout = go.Layout(\n",
    "    xaxis=dict(\n",
    "        title='Number of websites accessed',\n",
    "        titlefont=dict(\n",
    "            size=16,\n",
    "        ),\n",
    "        ticklen=2,\n",
    "        tickfont=dict(\n",
    "            size=12,\n",
    "        ),\n",
    "        nticks=10,\n",
    "    ),\n",
    "    yaxis=dict(\n",
    "        title='Percentage of Sessions',\n",
    "        titlefont=dict(\n",
    "            size=16,\n",
    "        ),\n",
    "        tickfont=dict(\n",
    "            size=11,\n",
    "        ),\n",
    "        tickformat='.0%',\n",
    "        nticks=15,\n",
    "        #range=[0,1],\n",
    "    ),\n",
    ")\n",
    "\n",
    "fig = go.Figure(data=data, layout=layout)\n",
    "\n",
    "plotly.offline.iplot(fig, filename='Consideration Set each Session', image='png')\n",
    "\n",
    "#py.iplot(fig, filename='Consideration Set each Session')"
   ]
  }
 ],
 "metadata": {
  "kernelspec": {
   "display_name": "Python 3",
   "language": "python",
   "name": "python3"
  },
  "language_info": {
   "codemirror_mode": {
    "name": "ipython",
    "version": 3
   },
   "file_extension": ".py",
   "mimetype": "text/x-python",
   "name": "python",
   "nbconvert_exporter": "python",
   "pygments_lexer": "ipython3",
   "version": "3.6.4"
  }
 },
 "nbformat": 4,
 "nbformat_minor": 2
}
