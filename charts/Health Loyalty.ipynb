{
 "cells": [
  {
   "cell_type": "code",
   "execution_count": null,
   "metadata": {},
   "outputs": [],
   "source": [
    "#！/usr/bin/python\n",
    "# -*- coding: utf-8 -*-"
   ]
  },
  {
   "cell_type": "code",
   "execution_count": null,
   "metadata": {},
   "outputs": [],
   "source": [
    "import pyodbc\n",
    "import textwrap\n",
    "import pandas as pd\n",
    "import numpy as np\n",
    "\n",
    "import plotly\n",
    "import plotly.plotly as py\n",
    "import plotly.graph_objs as go"
   ]
  },
  {
   "cell_type": "code",
   "execution_count": null,
   "metadata": {},
   "outputs": [],
   "source": [
    "sql = textwrap.dedent(\"\"\"\n",
    "    SELECT r.userid\n",
    "          ,h.category\n",
    "          ,r.website\n",
    "          ,COUNT(r.url) AS [Visit Numbers]\n",
    "          ,COUNT(DISTINCT r.date) AS [Visit Days]\n",
    "          ,DATEDIFF(day ,MAX(r.date), '2017-08-31') AS [Last Visit]\n",
    "    FROM [data].[dbo].[health_records] r\n",
    "    JOIN [data].[dbo].[healthsites] h\n",
    "    ON r.website = h.abbreviation\n",
    "    GROUP BY r.userid, h.category, r.website\n",
    "    ORDER BY r.userid, h.category, r.website\n",
    "\"\"\")"
   ]
  },
  {
   "cell_type": "code",
   "execution_count": null,
   "metadata": {},
   "outputs": [],
   "source": [
    "cnxn = pyodbc.connect('DRIVER={SQL Server};SERVER=localhost;DATABASE=data;')\n",
    "\n",
    "cursor = cnxn.cursor()"
   ]
  },
  {
   "cell_type": "code",
   "execution_count": null,
   "metadata": {
    "scrolled": true
   },
   "outputs": [],
   "source": [
    "rows=cursor.execute(sql).fetchall()"
   ]
  },
  {
   "cell_type": "code",
   "execution_count": null,
   "metadata": {
    "scrolled": true
   },
   "outputs": [],
   "source": [
    "df = pd.DataFrame( [[ij for ij in i] for i in rows] )\n",
    "df.rename(columns={0:'userid', 1: 'category', 2:'website', 3:'number_of_visits', 4:'visit_frequency', 5:'last_visit'}, inplace=True)\n",
    "# 计算平均每天的访问量，并四舍五入取整\n",
    "df['average_daily_visits'] = round(df['number_of_visits']/df['visit_frequency']).apply(int)\n",
    "df"
   ]
  },
  {
   "cell_type": "code",
   "execution_count": null,
   "metadata": {},
   "outputs": [],
   "source": [
    "plotly.tools.set_credentials_file(username='tenaghirmb', api_key='please_use_your_own_key')\n",
    "\n",
    "plotly.offline.init_notebook_mode(connected=True)"
   ]
  },
  {
   "cell_type": "code",
   "execution_count": null,
   "metadata": {},
   "outputs": [],
   "source": [
    "# 从原始查询结果中提取作图所需数据\n",
    "def df_filter(category):\n",
    "    if category == 'all':\n",
    "        # 计算每个指标的平均值\n",
    "        dfx = df.groupby('category').agg(np.mean)\n",
    "    else:\n",
    "        dfx = df[df['category']==category]\n",
    "        dfx = dfx.groupby( 'website').agg(np.mean)   \n",
    "    # 对逆指标进行处理\n",
    "    dfx['last_visit'] = dfx['last_visit'].transform(lambda x:1/x)\n",
    "    # 归一化\n",
    "    dfx = dfx.transform(lambda x: x / x.max())\n",
    "    return dfx"
   ]
  },
  {
   "cell_type": "code",
   "execution_count": null,
   "metadata": {},
   "outputs": [],
   "source": [
    "def make_scatterpolar(result,n):\n",
    "    # 使雷达图的连线闭合，轨迹需回到起点\n",
    "    l = list(result.iloc[n])\n",
    "    l.append(l[0])\n",
    "    return go.Scatterpolar(\n",
    "      r = l,\n",
    "      theta = ['Visit Times','Visit Days','Recent Visit Time', 'Average Daily Visit Times', 'Visit Times'],\n",
    "      #fill = 'toself',\n",
    "      #opacity = 0.4,\n",
    "      # 取索引值（category或website的值），groupby后索引不再是数字\n",
    "      name = result.index.tolist()[n],\n",
    "      mode = 'lines+markers'\n",
    "    )"
   ]
  },
  {
   "cell_type": "code",
   "execution_count": null,
   "metadata": {},
   "outputs": [],
   "source": [
    "def make_radar_chart(category='all'):\n",
    "    dfx = df_filter(category)\n",
    "    data = []\n",
    "    for x in range(len(dfx)):\n",
    "        data.insert(0,make_scatterpolar(dfx,x))\n",
    "    fig = go.Figure(data=data)\n",
    "    plotly.offline.iplot(fig, filename = \"Loyalty\")\n",
    "    #py.iplot(fig, filename = \"Loyalty - \"+category)"
   ]
  },
  {
   "cell_type": "code",
   "execution_count": null,
   "metadata": {},
   "outputs": [],
   "source": [
    "make_radar_chart()"
   ]
  }
 ],
 "metadata": {
  "kernelspec": {
   "display_name": "Python 3",
   "language": "python",
   "name": "python3"
  },
  "language_info": {
   "codemirror_mode": {
    "name": "ipython",
    "version": 3
   },
   "file_extension": ".py",
   "mimetype": "text/x-python",
   "name": "python",
   "nbconvert_exporter": "python",
   "pygments_lexer": "ipython3",
   "version": "3.6.4"
  }
 },
 "nbformat": 4,
 "nbformat_minor": 2
}
