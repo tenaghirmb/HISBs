{
 "cells": [
  {
   "cell_type": "code",
   "execution_count": null,
   "metadata": {
    "collapsed": true
   },
   "outputs": [],
   "source": [
    "#！/usr/bin/python\n",
    "# -*- coding: utf-8 -*-"
   ]
  },
  {
   "cell_type": "code",
   "execution_count": null,
   "metadata": {
    "collapsed": true
   },
   "outputs": [],
   "source": [
    "import pyodbc\n",
    "import textwrap\n",
    "import pandas as pd\n",
    "\n",
    "import plotly\n",
    "import plotly.plotly as py\n",
    "import plotly.graph_objs as go"
   ]
  },
  {
   "cell_type": "code",
   "execution_count": null,
   "metadata": {
    "collapsed": true
   },
   "outputs": [],
   "source": [
    "sql1 = textwrap.dedent(\"\"\"\n",
    "    IF OBJECT_ID('tempdb..#Diversity') IS NOT NULL\n",
    "        DROP TABLE #Diversity\n",
    "\"\"\")\n",
    "sql2 = textwrap.dedent(\"\"\"\n",
    "    IF OBJECT_ID('tempdb..#csavg') IS NOT NULL\n",
    "        DROP TABLE #csavg\n",
    "\"\"\")\n",
    "sql3 = textwrap.dedent(\"\"\"\n",
    "    SELECT userid\n",
    "          ,LEFT(date, 8) AS [date]\n",
    "          ,COUNT(DISTINCT website) AS cs\n",
    "    INTO #Diversity\n",
    "    FROM [data].[dbo].[health_records]\n",
    "    GROUP BY userid, LEFT(date, 8)\n",
    "    ORDER BY userid, LEFT(date, 8)\n",
    "\"\"\")\n",
    "sql4 = textwrap.dedent(\"\"\"\n",
    "    SELECT userid\n",
    "          ,AVG(cs) AS cs_avg\n",
    "    INTO #csavg\n",
    "    FROM #Diversity\n",
    "    GROUP BY userid\n",
    "    ORDER BY userid\n",
    "\"\"\")\n",
    "sql5 = textwrap.dedent(\"\"\"\n",
    "    SELECT cs_avg AS cs\n",
    "          ,COUNT(DISTINCT userid) AS cnt\n",
    "          ,CONVERT(DECIMAL(4,4), COUNT(DISTINCT userid)/CONVERT(DECIMAL(5,2), (SELECT COUNT(DISTINCT userid) FROM #csavg))) AS pct\n",
    "    FROM #csavg\n",
    "    GROUP BY cs_avg\n",
    "    ORDER BY cs\n",
    "\"\"\")"
   ]
  },
  {
   "cell_type": "code",
   "execution_count": null,
   "metadata": {
    "collapsed": true
   },
   "outputs": [],
   "source": [
    "cnxn = pyodbc.connect('DRIVER={SQL Server};SERVER=localhost;DATABASE=data;')\n",
    "\n",
    "cursor = cnxn.cursor()"
   ]
  },
  {
   "cell_type": "code",
   "execution_count": null,
   "metadata": {
    "scrolled": true
   },
   "outputs": [],
   "source": [
    "cursor.execute(sql1)\n",
    "cursor.execute(sql2)\n",
    "cursor.execute(sql3)\n",
    "cursor.execute(sql4)\n",
    "rows=cursor.execute(sql5).fetchall()"
   ]
  },
  {
   "cell_type": "code",
   "execution_count": null,
   "metadata": {},
   "outputs": [],
   "source": [
    "df = pd.DataFrame( [[ij for ij in i] for i in rows] )\n",
    "df.rename(columns={0:'Consideration Set', 1: 'Visitors', 2:'Percentage'}, inplace=True)\n",
    "\n",
    "df.loc[4] = [5,0,0]"
   ]
  },
  {
   "cell_type": "code",
   "execution_count": null,
   "metadata": {},
   "outputs": [],
   "source": [
    "trace = go.Bar(\n",
    "    x = df['Consideration Set'],\n",
    "    y = df['Percentage'],\n",
    "    text = df['Percentage'].apply(lambda x:format(x,'.2%')),\n",
    "    textposition = 'outside',\n",
    "    textfont = dict(size=9,),\n",
    "    width = [0.35]*5\n",
    ")\n",
    "\n",
    "data = [trace]\n",
    "\n",
    "layout = go.Layout(\n",
    "    xaxis=dict(\n",
    "        title='Number of websites accessed',\n",
    "        titlefont=dict(\n",
    "            size=16,\n",
    "        ),\n",
    "        ticklen=2,\n",
    "        tickfont=dict(\n",
    "            size=12,\n",
    "        ),\n",
    "        nticks=6,\n",
    "    ),\n",
    "    yaxis=dict(\n",
    "        title='Percentage of Visitors',\n",
    "        titlefont=dict(\n",
    "            size=16,\n",
    "        ),\n",
    "        tickfont=dict(\n",
    "            size=11,\n",
    "        ),\n",
    "        tickformat='.0%',\n",
    "        nticks=15,\n",
    "        range=[0,1],\n",
    "    ),\n",
    ")\n",
    "\n",
    "fig = go.Figure(data=data, layout=layout)\n",
    "\n",
    "plotly.offline.plot(fig, filename='Diversity.html')"
   ]
  }
 ],
 "metadata": {
  "kernelspec": {
   "display_name": "Python 3",
   "language": "python",
   "name": "python3"
  },
  "language_info": {
   "codemirror_mode": {
    "name": "ipython",
    "version": 3
   },
   "file_extension": ".py",
   "mimetype": "text/x-python",
   "name": "python",
   "nbconvert_exporter": "python",
   "pygments_lexer": "ipython3",
   "version": "3.6.2"
  }
 },
 "nbformat": 4,
 "nbformat_minor": 2
}
