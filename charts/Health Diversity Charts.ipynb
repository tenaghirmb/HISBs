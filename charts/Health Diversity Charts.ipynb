{
 "cells": [
  {
   "cell_type": "code",
   "execution_count": null,
   "metadata": {},
   "outputs": [],
   "source": [
    "#！/usr/bin/python\n",
    "# -*- coding: utf-8 -*-"
   ]
  },
  {
   "cell_type": "code",
   "execution_count": null,
   "metadata": {},
   "outputs": [],
   "source": [
    "import pyodbc\n",
    "import textwrap\n",
    "import pandas as pd\n",
    "\n",
    "import plotly\n",
    "import plotly.plotly as py\n",
    "import plotly.graph_objs as go"
   ]
  },
  {
   "cell_type": "code",
   "execution_count": null,
   "metadata": {},
   "outputs": [],
   "source": [
    "sql1 = textwrap.dedent(\"\"\"\n",
    "    IF OBJECT_ID('tempdb..#Diversity') IS NOT NULL\n",
    "        DROP TABLE #Diversity\n",
    "\"\"\")\n",
    "sql2 = textwrap.dedent(\"\"\"\n",
    "    IF OBJECT_ID('tempdb..#csavg') IS NOT NULL\n",
    "        DROP TABLE #csavg\n",
    "\"\"\")\n",
    "sql3 = textwrap.dedent(\"\"\"\n",
    "    SELECT userid\n",
    "          ,DATEPART(quarter, timestamp1) AS [quarter]\n",
    "          ,COUNT(DISTINCT website) AS cs\n",
    "    INTO #Diversity\n",
    "    FROM [data].[dbo].[health_records]\n",
    "    GROUP BY userid, DATEPART(quarter, timestamp1)\n",
    "    ORDER BY userid, DATEPART(quarter, timestamp1)\n",
    "\"\"\")\n",
    "sql4 = textwrap.dedent(\"\"\"\n",
    "    SELECT userid\n",
    "          ,AVG(cs) AS cs_avg\n",
    "    INTO #csavg\n",
    "    FROM #Diversity\n",
    "    GROUP BY userid\n",
    "    ORDER BY userid\n",
    "\"\"\")\n",
    "sql5 = textwrap.dedent(\"\"\"\n",
    "    SELECT cs_avg AS cs\n",
    "          ,COUNT(DISTINCT userid) AS cnt\n",
    "          ,CONVERT(DECIMAL(4,4), COUNT(DISTINCT userid)/CONVERT(DECIMAL(5,2), (SELECT COUNT(DISTINCT userid) FROM #csavg))) AS pct\n",
    "    FROM #csavg\n",
    "    GROUP BY cs_avg\n",
    "    ORDER BY cs\n",
    "\"\"\")"
   ]
  },
  {
   "cell_type": "code",
   "execution_count": null,
   "metadata": {},
   "outputs": [],
   "source": [
    "cnxn = pyodbc.connect('DRIVER={SQL Server};SERVER=localhost;DATABASE=data;')\n",
    "\n",
    "cursor = cnxn.cursor()"
   ]
  },
  {
   "cell_type": "code",
   "execution_count": null,
   "metadata": {
    "scrolled": true
   },
   "outputs": [],
   "source": [
    "cursor.execute(sql1)\n",
    "cursor.execute(sql2)\n",
    "cursor.execute(sql3)\n",
    "cursor.execute(sql4)\n",
    "rows=cursor.execute(sql5).fetchall()"
   ]
  },
  {
   "cell_type": "code",
   "execution_count": null,
   "metadata": {},
   "outputs": [],
   "source": [
    "df = pd.DataFrame( [[ij for ij in i] for i in rows] )\n",
    "df.rename(columns={0:'Consideration Set', 1: 'Visitors', 2:'Percentage'}, inplace=True)"
   ]
  },
  {
   "cell_type": "code",
   "execution_count": null,
   "metadata": {},
   "outputs": [],
   "source": [
    "# 访问多个网站的情况\n",
    "dfx = df.loc[1:]\n",
    "# 重新计算分布\n",
    "dfx['Percentage'] = dfx.Visitors/dfx.Visitors.sum()\n",
    "dfx"
   ]
  },
  {
   "cell_type": "code",
   "execution_count": null,
   "metadata": {},
   "outputs": [],
   "source": [
    "# 计算平均consideration set\n",
    "t = df['Consideration Set']*df['Percentage']\n",
    "t.sum()"
   ]
  },
  {
   "cell_type": "code",
   "execution_count": null,
   "metadata": {},
   "outputs": [],
   "source": [
    "# 计算平均consideration set（除去只访问1个网站的情况）\n",
    "t = dfx['Consideration Set']*dfx['Percentage']\n",
    "t.sum()"
   ]
  },
  {
   "cell_type": "code",
   "execution_count": null,
   "metadata": {
    "scrolled": true
   },
   "outputs": [],
   "source": [
    "plotly.tools.set_credentials_file(username='tenaghirmb', api_key='please_use_your_own_key')\n",
    "\n",
    "plotly.offline.init_notebook_mode(connected=True)"
   ]
  },
  {
   "cell_type": "code",
   "execution_count": null,
   "metadata": {
    "scrolled": false
   },
   "outputs": [],
   "source": [
    "trace = go.Bar(\n",
    "    x = df['Consideration Set'],\n",
    "    y = df['Percentage'],\n",
    "    # 增加注释，以百分数的形式显示并保留2位小数\n",
    "    text = df['Percentage'].apply(lambda x:format(x,'.2%')),\n",
    "    textposition = 'outside',\n",
    "    textfont = dict(size=9,),\n",
    "    width = [0.35]*7\n",
    ")\n",
    "\n",
    "data = [trace]\n",
    "\n",
    "layout = go.Layout(\n",
    "    xaxis=dict(\n",
    "        title='Number of websites accessed',\n",
    "        titlefont=dict(\n",
    "            size=16,\n",
    "        ),\n",
    "        ticklen=2,\n",
    "        tickfont=dict(\n",
    "            size=12,\n",
    "        ),\n",
    "        nticks=9,\n",
    "    ),\n",
    "    yaxis=dict(\n",
    "        title='Percentage of Visitors',\n",
    "        titlefont=dict(\n",
    "            size=16,\n",
    "        ),\n",
    "        tickfont=dict(\n",
    "            size=11,\n",
    "        ),\n",
    "        tickformat='.0%',\n",
    "        nticks=15,\n",
    "        #range=[0,1],\n",
    "    ),\n",
    ")\n",
    "\n",
    "fig = go.Figure(data=data, layout=layout)\n",
    "\n",
    "plotly.offline.iplot(fig)\n",
    "#py.iplot(fig, filename='Diversity(quarter)')"
   ]
  }
 ],
 "metadata": {
  "kernelspec": {
   "display_name": "Python 3",
   "language": "python",
   "name": "python3"
  },
  "language_info": {
   "codemirror_mode": {
    "name": "ipython",
    "version": 3
   },
   "file_extension": ".py",
   "mimetype": "text/x-python",
   "name": "python",
   "nbconvert_exporter": "python",
   "pygments_lexer": "ipython3",
   "version": "3.6.4"
  }
 },
 "nbformat": 4,
 "nbformat_minor": 2
}
